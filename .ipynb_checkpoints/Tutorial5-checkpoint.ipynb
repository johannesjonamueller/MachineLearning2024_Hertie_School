{
 "cells": [
  {
   "cell_type": "markdown",
   "metadata": {},
   "source": [
    "\n",
    "![image](https://storage.googleapis.com/kaggle-datasets-images/4134888/7159329/8685cd8fb7c162e34269921f17687cbe/dataset-cover.jpeg?t=2023-12-09-07-27-45)\n"
   ]
  },
  {
   "cell_type": "markdown",
   "metadata": {},
   "source": [
    "# <div style=\"color:white;display:inline-block;border-radius:5px;background-image: url(https://i.postimg.cc/fyD3nrX4/cardiovas-jcdumlao.png);font-family:Nexa;overflow:hidden\"><p style=\"padding:15px;color:white;overflow:hidden;font-size:95%;letter-spacing:0.5px;margin:0\"><b>ﮩ٨ـ❤️ﮩ٨ـﮩﮩ</b>Introduction</p></div>\n",
    "\n",
    "This heart disease dataset, sourced from a reputable multispecialty hospital in India, comprises a rich array of information encompassing 14 common features, making it a valuable resource for cardiovascular research. With a cohort of 1000 subjects and 12 distinct features, this dataset serves as a pivotal tool for developing early-stage heart disease detection methods and constructing predictive machine-learning models. Its diverse and comprehensive nature positions it as a significant asset in advancing research endeavors aimed at understanding and mitigating cardiovascular risks."
   ]
  },
  {
   "cell_type": "markdown",
   "metadata": {},
   "source": [
    "<h2 style='border:0; border-radius: 15px; font-weight: 150; color:#9b006e; font-size:250%'><center> Cardiovascular Disease Dataset Description\n",
    "</center></h2>\n",
    "\n",
    "|S.No|Attribute|Explain|Unit|Type of Data|\n",
    "|----|---------|-------|----|------------|\n",
    "|1|**Patient Identification Number**|patientid|Numeric|Number|\n",
    "|2|**Age**|age|Numeric|In Years|\n",
    "|3|**Gender**|gender|Binary|0 (female) / 1 (male)|\n",
    "|4|**Resting blood pressure**|restingBP|Numeric|94-200 (in mm HG)|\n",
    "|5|**Serum cholesterol**|serumcholestrol|Numeric|126-564 (in mg/dl)|\n",
    "|6|**Fasting blood sugar**|fastingbloodsugar|Binary|0 (false) / 1 (true) > 120 mg/dl|\n",
    "|7|**Chest pain type**|chestpain|Nominal|0 (typical angina), 1 (atypical angina), 2 (non-anginal pain), 3 (asymptomatic)|\n",
    "|8|**Resting electrocardiogram results**|restingelectro|Nominal|0 (normal), 1 (ST-T wave abnormality), 2 (probable or definite left ventricular hypertrophy)|\n",
    "|9|**Maximum heart rate achieved**|maxheartrate|Numeric|71-202|\n",
    "|10|**Exercise induced angina**|exerciseangina|Binary|0 (no) / 1 (yes)|\n",
    "|11|**Oldpeak = ST**|oldpeak|Numeric|0-6.2|\n",
    "|12|**Slope of the peak exercise ST segment**|slope|Nominal|1 (upsloping), 2 (flat), 3 (downsloping)|\n",
    "|13|**Number of major vessels**|noofmajorvessels|Numeric|0, 1, 2, 3|\n",
    "|14|**Classification (target)**|target|Binary|0 (Absence of Heart Disease), 1 (Presence of Heart Disease)|\n"
   ]
  },
  {
   "cell_type": "markdown",
   "metadata": {},
   "source": [
    "# <div style=\"color:white;display:inline-block;border-radius:5px;background-image: url(https://i.postimg.cc/fyD3nrX4/cardiovas-jcdumlao.png);font-family:Nexa;overflow:hidden\"><p style=\"padding:15px;color:white;overflow:hidden;font-size:95%;letter-spacing:0.5px;margin:0\"><b>ﮩ٨ـ❤️ﮩ٨ـﮩﮩ</b>Import Modules</p></div>\n"
   ]
  },
  {
   "cell_type": "code",
   "execution_count": 1,
   "metadata": {
    "ExecuteTime": {
     "end_time": "2024-03-07T13:32:13.253123Z",
     "start_time": "2024-03-07T13:32:13.244158Z"
    }
   },
   "outputs": [
    {
     "name": "stderr",
     "output_type": "stream",
     "text": [
      "/var/folders/rl/glk77nxx70v4qglb24jl0byr0000gn/T/ipykernel_49380/3159254471.py:1: DeprecationWarning: \n",
      "Pyarrow will become a required dependency of pandas in the next major release of pandas (pandas 3.0),\n",
      "(to allow more performant data types, such as the Arrow string type, and better interoperability with other libraries)\n",
      "but was not found to be installed on your system.\n",
      "If this would cause problems for you,\n",
      "please provide us feedback at https://github.com/pandas-dev/pandas/issues/54466\n",
      "        \n",
      "  import pandas as pd\n"
     ]
    },
    {
     "name": "stdout",
     "output_type": "stream",
     "text": [
      "\u001b[34m\n",
      "All libraries imported succesfully.\u001b[0m\n"
     ]
    }
   ],
   "source": [
    "import pandas as pd\n",
    "import numpy as np\n",
    "import seaborn as sns\n",
    "import matplotlib.pyplot as plt\n",
    "import warnings\n",
    "from termcolor import colored\n",
    "\n",
    "\n",
    "\n",
    "import warnings\n",
    "warnings.filterwarnings(\"ignore\")\n",
    "\n",
    "print(colored('\\nAll libraries imported succesfully.', 'blue'))"
   ]
  },
  {
   "cell_type": "markdown",
   "metadata": {},
   "source": [
    "# <div style=\"color:white;display:inline-block;border-radius:5px;background-image: url(https://i.postimg.cc/fyD3nrX4/cardiovas-jcdumlao.png);font-family:Nexa;overflow:hidden\"><p style=\"padding:15px;color:white;overflow:hidden;font-size:95%;letter-spacing:0.5px;margin:0\"><b>ﮩ٨ـ❤️ﮩ٨ـﮩﮩ</b>Load the Data</p></div>\n"
   ]
  },
  {
   "cell_type": "code",
   "execution_count": 2,
   "metadata": {
    "ExecuteTime": {
     "end_time": "2024-03-07T13:32:23.560401Z",
     "start_time": "2024-03-07T13:32:23.547850Z"
    }
   },
   "outputs": [
    {
     "data": {
      "text/html": [
       "<style type=\"text/css\">\n",
       "#T_0bdcc_row0_col0, #T_0bdcc_row0_col1, #T_0bdcc_row0_col2, #T_0bdcc_row0_col3, #T_0bdcc_row0_col4, #T_0bdcc_row0_col5, #T_0bdcc_row0_col6, #T_0bdcc_row0_col7, #T_0bdcc_row0_col8, #T_0bdcc_row0_col9, #T_0bdcc_row0_col10, #T_0bdcc_row0_col11, #T_0bdcc_row0_col12, #T_0bdcc_row0_col13, #T_0bdcc_row1_col0, #T_0bdcc_row1_col1, #T_0bdcc_row1_col2, #T_0bdcc_row1_col3, #T_0bdcc_row1_col4, #T_0bdcc_row1_col5, #T_0bdcc_row1_col6, #T_0bdcc_row1_col7, #T_0bdcc_row1_col8, #T_0bdcc_row1_col9, #T_0bdcc_row1_col10, #T_0bdcc_row1_col11, #T_0bdcc_row1_col12, #T_0bdcc_row1_col13, #T_0bdcc_row2_col0, #T_0bdcc_row2_col1, #T_0bdcc_row2_col2, #T_0bdcc_row2_col3, #T_0bdcc_row2_col4, #T_0bdcc_row2_col5, #T_0bdcc_row2_col6, #T_0bdcc_row2_col7, #T_0bdcc_row2_col8, #T_0bdcc_row2_col9, #T_0bdcc_row2_col10, #T_0bdcc_row2_col11, #T_0bdcc_row2_col12, #T_0bdcc_row2_col13, #T_0bdcc_row3_col0, #T_0bdcc_row3_col1, #T_0bdcc_row3_col2, #T_0bdcc_row3_col3, #T_0bdcc_row3_col4, #T_0bdcc_row3_col5, #T_0bdcc_row3_col6, #T_0bdcc_row3_col7, #T_0bdcc_row3_col8, #T_0bdcc_row3_col9, #T_0bdcc_row3_col10, #T_0bdcc_row3_col11, #T_0bdcc_row3_col12, #T_0bdcc_row3_col13, #T_0bdcc_row4_col0, #T_0bdcc_row4_col1, #T_0bdcc_row4_col2, #T_0bdcc_row4_col3, #T_0bdcc_row4_col4, #T_0bdcc_row4_col5, #T_0bdcc_row4_col6, #T_0bdcc_row4_col7, #T_0bdcc_row4_col8, #T_0bdcc_row4_col9, #T_0bdcc_row4_col10, #T_0bdcc_row4_col11, #T_0bdcc_row4_col12, #T_0bdcc_row4_col13 {\n",
       "  background-color: blue;\n",
       "  color: white;\n",
       "  border-color: #8b8c8c;\n",
       "}\n",
       "</style>\n",
       "<table id=\"T_0bdcc\">\n",
       "  <thead>\n",
       "    <tr>\n",
       "      <th class=\"blank level0\" >&nbsp;</th>\n",
       "      <th id=\"T_0bdcc_level0_col0\" class=\"col_heading level0 col0\" >patientid</th>\n",
       "      <th id=\"T_0bdcc_level0_col1\" class=\"col_heading level0 col1\" >age</th>\n",
       "      <th id=\"T_0bdcc_level0_col2\" class=\"col_heading level0 col2\" >gender</th>\n",
       "      <th id=\"T_0bdcc_level0_col3\" class=\"col_heading level0 col3\" >chestpain</th>\n",
       "      <th id=\"T_0bdcc_level0_col4\" class=\"col_heading level0 col4\" >restingBP</th>\n",
       "      <th id=\"T_0bdcc_level0_col5\" class=\"col_heading level0 col5\" >serumcholestrol</th>\n",
       "      <th id=\"T_0bdcc_level0_col6\" class=\"col_heading level0 col6\" >fastingbloodsugar</th>\n",
       "      <th id=\"T_0bdcc_level0_col7\" class=\"col_heading level0 col7\" >restingrelectro</th>\n",
       "      <th id=\"T_0bdcc_level0_col8\" class=\"col_heading level0 col8\" >maxheartrate</th>\n",
       "      <th id=\"T_0bdcc_level0_col9\" class=\"col_heading level0 col9\" >exerciseangia</th>\n",
       "      <th id=\"T_0bdcc_level0_col10\" class=\"col_heading level0 col10\" >oldpeak</th>\n",
       "      <th id=\"T_0bdcc_level0_col11\" class=\"col_heading level0 col11\" >slope</th>\n",
       "      <th id=\"T_0bdcc_level0_col12\" class=\"col_heading level0 col12\" >noofmajorvessels</th>\n",
       "      <th id=\"T_0bdcc_level0_col13\" class=\"col_heading level0 col13\" >target</th>\n",
       "    </tr>\n",
       "  </thead>\n",
       "  <tbody>\n",
       "    <tr>\n",
       "      <th id=\"T_0bdcc_level0_row0\" class=\"row_heading level0 row0\" >0</th>\n",
       "      <td id=\"T_0bdcc_row0_col0\" class=\"data row0 col0\" >103368</td>\n",
       "      <td id=\"T_0bdcc_row0_col1\" class=\"data row0 col1\" >53</td>\n",
       "      <td id=\"T_0bdcc_row0_col2\" class=\"data row0 col2\" >1</td>\n",
       "      <td id=\"T_0bdcc_row0_col3\" class=\"data row0 col3\" >2</td>\n",
       "      <td id=\"T_0bdcc_row0_col4\" class=\"data row0 col4\" >171</td>\n",
       "      <td id=\"T_0bdcc_row0_col5\" class=\"data row0 col5\" >0</td>\n",
       "      <td id=\"T_0bdcc_row0_col6\" class=\"data row0 col6\" >0</td>\n",
       "      <td id=\"T_0bdcc_row0_col7\" class=\"data row0 col7\" >1</td>\n",
       "      <td id=\"T_0bdcc_row0_col8\" class=\"data row0 col8\" >147</td>\n",
       "      <td id=\"T_0bdcc_row0_col9\" class=\"data row0 col9\" >0</td>\n",
       "      <td id=\"T_0bdcc_row0_col10\" class=\"data row0 col10\" >5.300000</td>\n",
       "      <td id=\"T_0bdcc_row0_col11\" class=\"data row0 col11\" >3</td>\n",
       "      <td id=\"T_0bdcc_row0_col12\" class=\"data row0 col12\" >3</td>\n",
       "      <td id=\"T_0bdcc_row0_col13\" class=\"data row0 col13\" >1</td>\n",
       "    </tr>\n",
       "    <tr>\n",
       "      <th id=\"T_0bdcc_level0_row1\" class=\"row_heading level0 row1\" >1</th>\n",
       "      <td id=\"T_0bdcc_row1_col0\" class=\"data row1 col0\" >119250</td>\n",
       "      <td id=\"T_0bdcc_row1_col1\" class=\"data row1 col1\" >40</td>\n",
       "      <td id=\"T_0bdcc_row1_col2\" class=\"data row1 col2\" >1</td>\n",
       "      <td id=\"T_0bdcc_row1_col3\" class=\"data row1 col3\" >0</td>\n",
       "      <td id=\"T_0bdcc_row1_col4\" class=\"data row1 col4\" >94</td>\n",
       "      <td id=\"T_0bdcc_row1_col5\" class=\"data row1 col5\" >229</td>\n",
       "      <td id=\"T_0bdcc_row1_col6\" class=\"data row1 col6\" >0</td>\n",
       "      <td id=\"T_0bdcc_row1_col7\" class=\"data row1 col7\" >1</td>\n",
       "      <td id=\"T_0bdcc_row1_col8\" class=\"data row1 col8\" >115</td>\n",
       "      <td id=\"T_0bdcc_row1_col9\" class=\"data row1 col9\" >0</td>\n",
       "      <td id=\"T_0bdcc_row1_col10\" class=\"data row1 col10\" >3.700000</td>\n",
       "      <td id=\"T_0bdcc_row1_col11\" class=\"data row1 col11\" >1</td>\n",
       "      <td id=\"T_0bdcc_row1_col12\" class=\"data row1 col12\" >1</td>\n",
       "      <td id=\"T_0bdcc_row1_col13\" class=\"data row1 col13\" >0</td>\n",
       "    </tr>\n",
       "    <tr>\n",
       "      <th id=\"T_0bdcc_level0_row2\" class=\"row_heading level0 row2\" >2</th>\n",
       "      <td id=\"T_0bdcc_row2_col0\" class=\"data row2 col0\" >119372</td>\n",
       "      <td id=\"T_0bdcc_row2_col1\" class=\"data row2 col1\" >49</td>\n",
       "      <td id=\"T_0bdcc_row2_col2\" class=\"data row2 col2\" >1</td>\n",
       "      <td id=\"T_0bdcc_row2_col3\" class=\"data row2 col3\" >2</td>\n",
       "      <td id=\"T_0bdcc_row2_col4\" class=\"data row2 col4\" >133</td>\n",
       "      <td id=\"T_0bdcc_row2_col5\" class=\"data row2 col5\" >142</td>\n",
       "      <td id=\"T_0bdcc_row2_col6\" class=\"data row2 col6\" >0</td>\n",
       "      <td id=\"T_0bdcc_row2_col7\" class=\"data row2 col7\" >0</td>\n",
       "      <td id=\"T_0bdcc_row2_col8\" class=\"data row2 col8\" >202</td>\n",
       "      <td id=\"T_0bdcc_row2_col9\" class=\"data row2 col9\" >1</td>\n",
       "      <td id=\"T_0bdcc_row2_col10\" class=\"data row2 col10\" >5.000000</td>\n",
       "      <td id=\"T_0bdcc_row2_col11\" class=\"data row2 col11\" >1</td>\n",
       "      <td id=\"T_0bdcc_row2_col12\" class=\"data row2 col12\" >0</td>\n",
       "      <td id=\"T_0bdcc_row2_col13\" class=\"data row2 col13\" >0</td>\n",
       "    </tr>\n",
       "    <tr>\n",
       "      <th id=\"T_0bdcc_level0_row3\" class=\"row_heading level0 row3\" >3</th>\n",
       "      <td id=\"T_0bdcc_row3_col0\" class=\"data row3 col0\" >132514</td>\n",
       "      <td id=\"T_0bdcc_row3_col1\" class=\"data row3 col1\" >43</td>\n",
       "      <td id=\"T_0bdcc_row3_col2\" class=\"data row3 col2\" >1</td>\n",
       "      <td id=\"T_0bdcc_row3_col3\" class=\"data row3 col3\" >0</td>\n",
       "      <td id=\"T_0bdcc_row3_col4\" class=\"data row3 col4\" >138</td>\n",
       "      <td id=\"T_0bdcc_row3_col5\" class=\"data row3 col5\" >295</td>\n",
       "      <td id=\"T_0bdcc_row3_col6\" class=\"data row3 col6\" >1</td>\n",
       "      <td id=\"T_0bdcc_row3_col7\" class=\"data row3 col7\" >1</td>\n",
       "      <td id=\"T_0bdcc_row3_col8\" class=\"data row3 col8\" >153</td>\n",
       "      <td id=\"T_0bdcc_row3_col9\" class=\"data row3 col9\" >0</td>\n",
       "      <td id=\"T_0bdcc_row3_col10\" class=\"data row3 col10\" >3.200000</td>\n",
       "      <td id=\"T_0bdcc_row3_col11\" class=\"data row3 col11\" >2</td>\n",
       "      <td id=\"T_0bdcc_row3_col12\" class=\"data row3 col12\" >2</td>\n",
       "      <td id=\"T_0bdcc_row3_col13\" class=\"data row3 col13\" >1</td>\n",
       "    </tr>\n",
       "    <tr>\n",
       "      <th id=\"T_0bdcc_level0_row4\" class=\"row_heading level0 row4\" >4</th>\n",
       "      <td id=\"T_0bdcc_row4_col0\" class=\"data row4 col0\" >146211</td>\n",
       "      <td id=\"T_0bdcc_row4_col1\" class=\"data row4 col1\" >31</td>\n",
       "      <td id=\"T_0bdcc_row4_col2\" class=\"data row4 col2\" >1</td>\n",
       "      <td id=\"T_0bdcc_row4_col3\" class=\"data row4 col3\" >1</td>\n",
       "      <td id=\"T_0bdcc_row4_col4\" class=\"data row4 col4\" >199</td>\n",
       "      <td id=\"T_0bdcc_row4_col5\" class=\"data row4 col5\" >0</td>\n",
       "      <td id=\"T_0bdcc_row4_col6\" class=\"data row4 col6\" >0</td>\n",
       "      <td id=\"T_0bdcc_row4_col7\" class=\"data row4 col7\" >2</td>\n",
       "      <td id=\"T_0bdcc_row4_col8\" class=\"data row4 col8\" >136</td>\n",
       "      <td id=\"T_0bdcc_row4_col9\" class=\"data row4 col9\" >0</td>\n",
       "      <td id=\"T_0bdcc_row4_col10\" class=\"data row4 col10\" >5.300000</td>\n",
       "      <td id=\"T_0bdcc_row4_col11\" class=\"data row4 col11\" >3</td>\n",
       "      <td id=\"T_0bdcc_row4_col12\" class=\"data row4 col12\" >2</td>\n",
       "      <td id=\"T_0bdcc_row4_col13\" class=\"data row4 col13\" >1</td>\n",
       "    </tr>\n",
       "  </tbody>\n",
       "</table>\n"
      ],
      "text/plain": [
       "<pandas.io.formats.style.Styler at 0x17fd9d0d0>"
      ]
     },
     "execution_count": 2,
     "metadata": {},
     "output_type": "execute_result"
    }
   ],
   "source": [
    "df = pd.read_csv('Cardiovascular_Disease_Dataset/Cardiovascular_Disease_Dataset.csv')\n",
    "df.head().style.set_properties(**{'background-color':'blue','color':'white','border-color':'#8b8c8c'})"
   ]
  },
  {
   "cell_type": "markdown",
   "metadata": {},
   "source": [
    "# <div style=\"color:white;display:inline-block;border-radius:5px;background-image: url(https://i.postimg.cc/fyD3nrX4/cardiovas-jcdumlao.png);font-family:Nexa;overflow:hidden\"><p style=\"padding:15px;color:white;overflow:hidden;font-size:95%;letter-spacing:0.5px;margin:0\"><b>ﮩ٨ـ❤️ﮩ٨ـﮩﮩ</b>Data Information</p></div>"
   ]
  },
  {
   "cell_type": "code",
   "execution_count": 5,
   "metadata": {},
   "outputs": [
    {
     "name": "stdout",
     "output_type": "stream",
     "text": [
      "No. of samples: 1000\n",
      "No. of columns: 14\n"
     ]
    }
   ],
   "source": [
    "shape_of_dataframe = df.shape\n",
    "\n",
    "print(\"No. of samples:\", shape_of_dataframe[0])\n",
    "print(\"No. of columns:\", shape_of_dataframe[1])\n"
   ]
  },
  {
   "cell_type": "code",
   "execution_count": 3,
   "metadata": {},
   "outputs": [
    {
     "name": "stdout",
     "output_type": "stream",
     "text": [
      "<class 'pandas.core.frame.DataFrame'>\n",
      "RangeIndex: 1000 entries, 0 to 999\n",
      "Data columns (total 14 columns):\n",
      " #   Column             Non-Null Count  Dtype  \n",
      "---  ------             --------------  -----  \n",
      " 0   patientid          1000 non-null   int64  \n",
      " 1   age                1000 non-null   int64  \n",
      " 2   gender             1000 non-null   int64  \n",
      " 3   chestpain          1000 non-null   int64  \n",
      " 4   restingBP          1000 non-null   int64  \n",
      " 5   serumcholestrol    1000 non-null   int64  \n",
      " 6   fastingbloodsugar  1000 non-null   int64  \n",
      " 7   restingrelectro    1000 non-null   int64  \n",
      " 8   maxheartrate       1000 non-null   int64  \n",
      " 9   exerciseangia      1000 non-null   int64  \n",
      " 10  oldpeak            1000 non-null   float64\n",
      " 11  slope              1000 non-null   int64  \n",
      " 12  noofmajorvessels   1000 non-null   int64  \n",
      " 13  target             1000 non-null   int64  \n",
      "dtypes: float64(1), int64(13)\n",
      "memory usage: 109.5 KB\n"
     ]
    }
   ],
   "source": [
    "df.info()"
   ]
  },
  {
   "cell_type": "markdown",
   "metadata": {},
   "source": [
    "## Summary Statistics"
   ]
  },
  {
   "cell_type": "code",
   "execution_count": 11,
   "metadata": {},
   "outputs": [
    {
     "data": {
      "text/html": [
       "<div>\n",
       "<style scoped>\n",
       "    .dataframe tbody tr th:only-of-type {\n",
       "        vertical-align: middle;\n",
       "    }\n",
       "\n",
       "    .dataframe tbody tr th {\n",
       "        vertical-align: top;\n",
       "    }\n",
       "\n",
       "    .dataframe thead th {\n",
       "        text-align: right;\n",
       "    }\n",
       "</style>\n",
       "<table border=\"1\" class=\"dataframe\">\n",
       "  <thead>\n",
       "    <tr style=\"text-align: right;\">\n",
       "      <th></th>\n",
       "      <th>patientid</th>\n",
       "      <th>age</th>\n",
       "      <th>gender</th>\n",
       "      <th>chestpain</th>\n",
       "      <th>restingBP</th>\n",
       "      <th>serumcholestrol</th>\n",
       "      <th>fastingbloodsugar</th>\n",
       "      <th>restingrelectro</th>\n",
       "      <th>maxheartrate</th>\n",
       "      <th>exerciseangia</th>\n",
       "      <th>oldpeak</th>\n",
       "      <th>slope</th>\n",
       "      <th>noofmajorvessels</th>\n",
       "      <th>target</th>\n",
       "    </tr>\n",
       "  </thead>\n",
       "  <tbody>\n",
       "    <tr>\n",
       "      <th>count</th>\n",
       "      <td>1.000000e+03</td>\n",
       "      <td>1000.00000</td>\n",
       "      <td>1000.000000</td>\n",
       "      <td>1000.000000</td>\n",
       "      <td>1000.000000</td>\n",
       "      <td>1000.000000</td>\n",
       "      <td>1000.000000</td>\n",
       "      <td>1000.000000</td>\n",
       "      <td>1000.000000</td>\n",
       "      <td>1000.000000</td>\n",
       "      <td>1000.000000</td>\n",
       "      <td>1000.000000</td>\n",
       "      <td>1000.000000</td>\n",
       "      <td>1000.000000</td>\n",
       "    </tr>\n",
       "    <tr>\n",
       "      <th>mean</th>\n",
       "      <td>5.048704e+06</td>\n",
       "      <td>49.24200</td>\n",
       "      <td>0.765000</td>\n",
       "      <td>0.980000</td>\n",
       "      <td>151.747000</td>\n",
       "      <td>311.447000</td>\n",
       "      <td>0.296000</td>\n",
       "      <td>0.748000</td>\n",
       "      <td>145.477000</td>\n",
       "      <td>0.498000</td>\n",
       "      <td>2.707700</td>\n",
       "      <td>1.540000</td>\n",
       "      <td>1.222000</td>\n",
       "      <td>0.580000</td>\n",
       "    </tr>\n",
       "    <tr>\n",
       "      <th>std</th>\n",
       "      <td>2.895905e+06</td>\n",
       "      <td>17.86473</td>\n",
       "      <td>0.424211</td>\n",
       "      <td>0.953157</td>\n",
       "      <td>29.965228</td>\n",
       "      <td>132.443801</td>\n",
       "      <td>0.456719</td>\n",
       "      <td>0.770123</td>\n",
       "      <td>34.190268</td>\n",
       "      <td>0.500246</td>\n",
       "      <td>1.720753</td>\n",
       "      <td>1.003697</td>\n",
       "      <td>0.977585</td>\n",
       "      <td>0.493805</td>\n",
       "    </tr>\n",
       "    <tr>\n",
       "      <th>min</th>\n",
       "      <td>1.033680e+05</td>\n",
       "      <td>20.00000</td>\n",
       "      <td>0.000000</td>\n",
       "      <td>0.000000</td>\n",
       "      <td>94.000000</td>\n",
       "      <td>0.000000</td>\n",
       "      <td>0.000000</td>\n",
       "      <td>0.000000</td>\n",
       "      <td>71.000000</td>\n",
       "      <td>0.000000</td>\n",
       "      <td>0.000000</td>\n",
       "      <td>0.000000</td>\n",
       "      <td>0.000000</td>\n",
       "      <td>0.000000</td>\n",
       "    </tr>\n",
       "    <tr>\n",
       "      <th>25%</th>\n",
       "      <td>2.536440e+06</td>\n",
       "      <td>34.00000</td>\n",
       "      <td>1.000000</td>\n",
       "      <td>0.000000</td>\n",
       "      <td>129.000000</td>\n",
       "      <td>235.750000</td>\n",
       "      <td>0.000000</td>\n",
       "      <td>0.000000</td>\n",
       "      <td>119.750000</td>\n",
       "      <td>0.000000</td>\n",
       "      <td>1.300000</td>\n",
       "      <td>1.000000</td>\n",
       "      <td>0.000000</td>\n",
       "      <td>0.000000</td>\n",
       "    </tr>\n",
       "    <tr>\n",
       "      <th>50%</th>\n",
       "      <td>4.952508e+06</td>\n",
       "      <td>49.00000</td>\n",
       "      <td>1.000000</td>\n",
       "      <td>1.000000</td>\n",
       "      <td>147.000000</td>\n",
       "      <td>318.000000</td>\n",
       "      <td>0.000000</td>\n",
       "      <td>1.000000</td>\n",
       "      <td>146.000000</td>\n",
       "      <td>0.000000</td>\n",
       "      <td>2.400000</td>\n",
       "      <td>2.000000</td>\n",
       "      <td>1.000000</td>\n",
       "      <td>1.000000</td>\n",
       "    </tr>\n",
       "    <tr>\n",
       "      <th>75%</th>\n",
       "      <td>7.681877e+06</td>\n",
       "      <td>64.25000</td>\n",
       "      <td>1.000000</td>\n",
       "      <td>2.000000</td>\n",
       "      <td>181.000000</td>\n",
       "      <td>404.250000</td>\n",
       "      <td>1.000000</td>\n",
       "      <td>1.000000</td>\n",
       "      <td>175.000000</td>\n",
       "      <td>1.000000</td>\n",
       "      <td>4.100000</td>\n",
       "      <td>2.000000</td>\n",
       "      <td>2.000000</td>\n",
       "      <td>1.000000</td>\n",
       "    </tr>\n",
       "    <tr>\n",
       "      <th>max</th>\n",
       "      <td>9.990855e+06</td>\n",
       "      <td>80.00000</td>\n",
       "      <td>1.000000</td>\n",
       "      <td>3.000000</td>\n",
       "      <td>200.000000</td>\n",
       "      <td>602.000000</td>\n",
       "      <td>1.000000</td>\n",
       "      <td>2.000000</td>\n",
       "      <td>202.000000</td>\n",
       "      <td>1.000000</td>\n",
       "      <td>6.200000</td>\n",
       "      <td>3.000000</td>\n",
       "      <td>3.000000</td>\n",
       "      <td>1.000000</td>\n",
       "    </tr>\n",
       "  </tbody>\n",
       "</table>\n",
       "</div>"
      ],
      "text/plain": [
       "          patientid         age       gender    chestpain    restingBP  \\\n",
       "count  1.000000e+03  1000.00000  1000.000000  1000.000000  1000.000000   \n",
       "mean   5.048704e+06    49.24200     0.765000     0.980000   151.747000   \n",
       "std    2.895905e+06    17.86473     0.424211     0.953157    29.965228   \n",
       "min    1.033680e+05    20.00000     0.000000     0.000000    94.000000   \n",
       "25%    2.536440e+06    34.00000     1.000000     0.000000   129.000000   \n",
       "50%    4.952508e+06    49.00000     1.000000     1.000000   147.000000   \n",
       "75%    7.681877e+06    64.25000     1.000000     2.000000   181.000000   \n",
       "max    9.990855e+06    80.00000     1.000000     3.000000   200.000000   \n",
       "\n",
       "       serumcholestrol  fastingbloodsugar  restingrelectro  maxheartrate  \\\n",
       "count      1000.000000        1000.000000      1000.000000   1000.000000   \n",
       "mean        311.447000           0.296000         0.748000    145.477000   \n",
       "std         132.443801           0.456719         0.770123     34.190268   \n",
       "min           0.000000           0.000000         0.000000     71.000000   \n",
       "25%         235.750000           0.000000         0.000000    119.750000   \n",
       "50%         318.000000           0.000000         1.000000    146.000000   \n",
       "75%         404.250000           1.000000         1.000000    175.000000   \n",
       "max         602.000000           1.000000         2.000000    202.000000   \n",
       "\n",
       "       exerciseangia      oldpeak        slope  noofmajorvessels       target  \n",
       "count    1000.000000  1000.000000  1000.000000       1000.000000  1000.000000  \n",
       "mean        0.498000     2.707700     1.540000          1.222000     0.580000  \n",
       "std         0.500246     1.720753     1.003697          0.977585     0.493805  \n",
       "min         0.000000     0.000000     0.000000          0.000000     0.000000  \n",
       "25%         0.000000     1.300000     1.000000          0.000000     0.000000  \n",
       "50%         0.000000     2.400000     2.000000          1.000000     1.000000  \n",
       "75%         1.000000     4.100000     2.000000          2.000000     1.000000  \n",
       "max         1.000000     6.200000     3.000000          3.000000     1.000000  "
      ]
     },
     "execution_count": 11,
     "metadata": {},
     "output_type": "execute_result"
    }
   ],
   "source": [
    "df.describe()"
   ]
  },
  {
   "cell_type": "markdown",
   "metadata": {},
   "source": [
    "# <div style=\"color:white;display:inline-block;border-radius:5px;background-image: url(https://i.postimg.cc/fyD3nrX4/cardiovas-jcdumlao.png);font-family:Nexa;overflow:hidden\"><p style=\"padding:15px;color:white;overflow:hidden;font-size:95%;letter-spacing:0.5px;margin:0\">ﮩ٨ـ❤️ﮩ٨ـﮩﮩ<b> </b>Data Preprocessning</p></div>"
   ]
  },
  {
   "cell_type": "markdown",
   "metadata": {},
   "source": [
    "## Handling Missing Values"
   ]
  },
  {
   "cell_type": "code",
   "execution_count": null,
   "metadata": {},
   "outputs": [],
   "source": []
  },
  {
   "cell_type": "code",
   "execution_count": 9,
   "metadata": {},
   "outputs": [
    {
     "data": {
      "text/plain": [
       "Index(['patientid', 'age', 'gender', 'chestpain', 'restingBP',\n",
       "       'serumcholestrol', 'fastingbloodsugar', 'restingrelectro',\n",
       "       'maxheartrate', 'exerciseangia', 'oldpeak', 'slope', 'noofmajorvessels',\n",
       "       'target'],\n",
       "      dtype='object')"
      ]
     },
     "execution_count": 9,
     "metadata": {},
     "output_type": "execute_result"
    }
   ],
   "source": [
    "df.columns"
   ]
  },
  {
   "cell_type": "markdown",
   "metadata": {},
   "source": [
    "# <div style=\"color:white;display:inline-block;border-radius:5px;background-image: url(https://i.postimg.cc/fyD3nrX4/cardiovas-jcdumlao.png);font-family:Nexa;overflow:hidden\"><p style=\"padding:15px;color:white;overflow:hidden;font-size:95%;letter-spacing:0.5px;margin:0\"><b>ﮩ٨ـ❤️ﮩ٨ـﮩﮩ</b>Exploratory Data Analysis (EDA)📊</p></div>\n"
   ]
  },
  {
   "cell_type": "markdown",
   "metadata": {},
   "source": [
    "<div style=\"border-radius: 10px; border: 2px solid #FFD700; padding: 15px; background-color:#FDF5E6; font-size: 100%; text-align: left;\">\n",
    "    \n",
    "<font size=\"+1\" color=\"#059c99\"><b>💞 1.What is the age range of patients in the dataset?</b></font>\n",
    "\n",
    "**Answer: Age Range: 20 - 80**\n",
    "\n",
    "**Explanation: The age range is determined by finding the minimum and maximum age values in the dataset. In this case, patients' ages range from 20 to 80 years. Use df['age'].min() and df['age'].max()**"
   ]
  },
  {
   "cell_type": "code",
   "execution_count": 8,
   "metadata": {},
   "outputs": [
    {
     "name": "stdout",
     "output_type": "stream",
     "text": [
      "Age Range: 20 - 80\n"
     ]
    }
   ],
   "source": [
    "min_age=df['age'].min()\n",
    "max_age=df['age'].max()\n",
    "age_range = f\"Age Range: {min_age} - {max_age}\"\n",
    "print(age_range)\n"
   ]
  },
  {
   "cell_type": "markdown",
   "metadata": {},
   "source": [
    "<div style=\"border-radius: 10px; border: 2px solid #FFD700; padding: 15px; background-color:#FDF5E6; font-size: 100%; text-align: left;\">\n",
    "    \n",
    "<font size=\"+1\" color=\"#059c99\"><b>💞 2. How many males and females are represented in the dataset?</b></font>\n",
    "\n",
    "**Answer: Female: 1, Male: 0**\n",
    "\n",
    "**Explanation: The dataset contains only female patients, as indicated by the 'gender' column where 1 represents female and 0 represents male. Use df['gender'].value_counts()**\n"
   ]
  },
  {
   "cell_type": "code",
   "execution_count": 12,
   "metadata": {},
   "outputs": [
    {
     "name": "stdout",
     "output_type": "stream",
     "text": [
      "gender\n",
      "1    765\n",
      "0    235\n",
      "Name: count, dtype: int64\n"
     ]
    }
   ],
   "source": [
    "gender_count = df['gender'].value_counts()\n",
    "print(gender_count)"
   ]
  },
  {
   "cell_type": "markdown",
   "metadata": {},
   "source": [
    "## Visualise Age Distribution by Gender:\n",
    "\n",
    "What do you interpret from this plot?"
   ]
  },
  {
   "cell_type": "code",
   "execution_count": 13,
   "metadata": {},
   "outputs": [
    {
     "data": {
      "image/png": "[encoded data removed]",
      "text/plain": [
       "<Figure size 1000x600 with 1 Axes>"
      ]
     },
     "metadata": {},
     "output_type": "display_data"
    }
   ],
   "source": [
    "# Visualization:\n",
    "plt.figure(figsize=(10, 6))\n",
    "sns.histplot(x='age', hue='gender', data=df, palette='muted', multiple='stack', bins=15)\n",
    "plt.title('Age Distribution by Gender')\n",
    "plt.xlabel('Age')\n",
    "plt.ylabel('Count')\n",
    "plt.legend(title='Gender', labels=['Female', 'Male'])\n",
    "plt.show()"
   ]
  },
  {
   "cell_type": "markdown",
   "metadata": {},
   "source": [
    "<div style=\"border-radius: 10px; border: 2px solid #FFD700; padding: 15px; background-color:#FDF5E6; font-size: 100%; text-align: left;\">\n",
    "    \n",
    "<font size=\"+1\" color=\"#059c99\"><b>💞 3. What is the most common type of chest pain observed in the patients?</b></font>\n",
    "\n",
    "**chestpain --> 0 (typical angina), 1 (atypical angina), 2 (non-anginal pain), 3 (asymptomatic)**\n",
    "**Answer: Chest Pain Type 0**\n",
    "\n",
    "**Explanation: Chest pain type 0 is the most common among the patients, as determined by counting the occurrences in the 'chestpain' column. Use df['chestpain'].value_counts()**\n"
   ]
  },
  {
   "cell_type": "code",
   "execution_count": 14,
   "metadata": {},
   "outputs": [
    {
     "name": "stdout",
     "output_type": "stream",
     "text": [
      "chestpain\n",
      "0    420\n",
      "2    312\n",
      "1    224\n",
      "3     44\n",
      "Name: count, dtype: int64\n"
     ]
    }
   ],
   "source": [
    "chest_pain_counts = df['chestpain'].value_counts()\n",
    "print(chest_pain_counts)"
   ]
  },
  {
   "cell_type": "markdown",
   "metadata": {},
   "source": [
    "<div style=\"border-radius: 10px; border: 2px solid #FFD700; padding: 15px; background-color:#FDF5E6; font-size: 100%; text-align: left;\">\n",
    "    \n",
    "<font size=\"+1\" color=\"#059c99\"><b>💞 4. What is the average resting blood pressure among the patients?</b></font>\n",
    "\n",
    "**Answer: Average Resting Blood Pressure: 151.75 mm Hg**\n",
    "\n",
    "**Explanation: The average resting blood pressure is calculated by taking the mean of the values in the 'restingBP' column. Use df['restingBP'].mean()**\n"
   ]
  },
  {
   "cell_type": "code",
   "execution_count": 15,
   "metadata": {},
   "outputs": [
    {
     "name": "stdout",
     "output_type": "stream",
     "text": [
      "Average Resting Blood Pressure: 151.75 mm Hg\n"
     ]
    }
   ],
   "source": [
    "average_resting_bp = df['restingBP'].mean()\n",
    "print(f\"Average Resting Blood Pressure: {average_resting_bp:.2f} mm Hg\")\n"
   ]
  },
  {
   "cell_type": "markdown",
   "metadata": {},
   "source": [
    "## Distribution of resting blood pressure:\n",
    "\n",
    "What do you interpret from this plot?"
   ]
  },
  {
   "cell_type": "code",
   "execution_count": 16,
   "metadata": {},
   "outputs": [
    {
     "data": {
      "image/png": "[encoded data removed]",
      "text/plain": [
       "<Figure size 640x480 with 1 Axes>"
      ]
     },
     "metadata": {},
     "output_type": "display_data"
    }
   ],
   "source": [
    "sns.histplot(df['restingBP'], color='mediumseagreen') \n",
    "plt.title('Distribution of Resting Blood Pressure')\n",
    "plt.show()"
   ]
  },
  {
   "cell_type": "markdown",
   "metadata": {},
   "source": [
    "<div style=\"border-radius: 10px; border: 2px solid #FFD700; padding: 15px; background-color:#FDF5E6; font-size: 100%; text-align: left;\">\n",
    "    \n",
    "<font size=\"+1\" color=\"#059c99\"><b>💞 5. How does serum cholesterol vary across different patients?</b></font>\n",
    "\n",
    "**Explanation: Serum cholesterol distribution is visualized using both histogram and a boxplot, providing insights into the spread and central tendency of cholesterol levels among patients.**\n"
   ]
  },
  {
   "cell_type": "code",
   "execution_count": 17,
   "metadata": {},
   "outputs": [
    {
     "data": {
      "image/png": "[encoded data removed]",
      "text/plain": [
       "<Figure size 640x480 with 1 Axes>"
      ]
     },
     "metadata": {},
     "output_type": "display_data"
    }
   ],
   "source": [
    "sns.histplot(df['serumcholestrol'], color='blue') \n",
    "plt.title('Distribution of Serum Cholesterol')\n",
    "plt.xlabel('Serum Cholesterol')\n",
    "plt.ylabel('Frequency')\n",
    "plt.show()"
   ]
  },
  {
   "cell_type": "code",
   "execution_count": 18,
   "metadata": {},
   "outputs": [
    {
     "data": {
      "image/png": "[encoded data removed]",
      "text/plain": [
       "<Figure size 1000x600 with 1 Axes>"
      ]
     },
     "metadata": {},
     "output_type": "display_data"
    }
   ],
   "source": [
    "plt.figure(figsize=(10, 6))\n",
    "sns.boxplot(x='serumcholestrol', data=df, color='royalblue')\n",
    "plt.title('Distribution of Serum Cholesterol')\n",
    "plt.xlabel('Serum Cholesterol')\n",
    "plt.show()"
   ]
  },
  {
   "cell_type": "markdown",
   "metadata": {},
   "source": [
    "## Annotating the Box Plot"
   ]
  },
  {
   "cell_type": "markdown",
   "metadata": {},
   "source": [
    "plt.text(x, y, text) adds text at position x, y. Here, x is the median value, and y is arbitrarily set to 0.1 to position the text on the plot. The text displays the median value, formatted to two decimal places.\n",
    "\n",
    "ha='center' and va='center' set the horizontal and vertical alignment of the text, respectively.\n",
    "\n",
    "fontweight='bold', color='white', and backgroundcolor='green' style the text, making it bold with white letters on a green background."
   ]
  },
  {
   "cell_type": "code",
   "execution_count": 19,
   "metadata": {},
   "outputs": [
    {
     "data": {
      "text/plain": [
       "Text(0.5, 0, 'Serum Cholesterol')"
      ]
     },
     "execution_count": 19,
     "metadata": {},
     "output_type": "execute_result"
    },
    {
     "data": {
      "image/png": "[encoded data removed]",
      "text/plain": [
       "<Figure size 1200x800 with 1 Axes>"
      ]
     },
     "metadata": {},
     "output_type": "display_data"
    }
   ],
   "source": [
    "serumcholestrol_data=df['serumcholestrol']\n",
    "# Recreating the boxplot for serum cholesterol data\n",
    "plt.figure(figsize=(12, 8))\n",
    "boxplot = sns.boxplot(x=serumcholestrol_data, color='royalblue')\n",
    "\n",
    "# Calculating statistics for annotations\n",
    "median = np.median(serumcholestrol_data)\n",
    "quartile1 = np.percentile(serumcholestrol_data, 25)\n",
    "quartile3 = np.percentile(serumcholestrol_data, 75)\n",
    "iqr = quartile3 - quartile1  # Interquartile range\n",
    "upper_whisker = quartile3 + 1.5 * iqr\n",
    "lower_whisker = quartile1 - 1.5 * iqr\n",
    "\n",
    "# Annotating the median\n",
    "plt.text(median, 0.1, f'Median: {median:.2f}', ha='center', va='center', fontweight='bold', color='white', backgroundcolor='green')\n",
    "\n",
    "# Annotating the quartiles\n",
    "plt.text(quartile1, 0.2, f'Q1: {quartile1:.2f}', ha='center', va='center', fontweight='bold', color='white', backgroundcolor='blue')\n",
    "plt.text(quartile3, 0.2, f'Q3: {quartile3:.2f}', ha='center', va='center', fontweight='bold', color='white', backgroundcolor='blue')\n",
    "\n",
    "# Annotating the whiskers\n",
    "plt.text(upper_whisker, 0.1, f'Upper Whisker: {upper_whisker:.2f}', ha='center', va='center', fontweight='bold', color='white', backgroundcolor='red')\n",
    "plt.text(lower_whisker, 0.1, f'Lower Whisker: {lower_whisker:.2f}', ha='center', va='center', fontweight='bold', color='white', backgroundcolor='red')\n",
    "\n",
    "plt.title('Annotated Distribution of Serum Cholesterol')\n",
    "plt.xlabel('Serum Cholesterol')\n"
   ]
  },
  {
   "cell_type": "markdown",
   "metadata": {},
   "source": [
    "<div style=\"border-radius: 10px; border: 2px solid #FFD700; padding: 15px; background-color:#FDF5E6; font-size: 100%; text-align: left;\">\n",
    "    \n",
    "<font size=\"+1\" color=\"#059c99\"><b>💞 6. What percentage of patients have fasting blood sugar greater than 120 mg/dl? </b></font>\n",
    "\n",
    "**Answer: Percentage of patients with fasting blood sugar > 120 mg/dl: 29.60%**\n",
    "\n",
    "**Explanation: The percentage is calculated by dividing the number of patients with fasting blood sugar greater than 120 mg/dl by the total number of patients. Use (df['fastingbloodsugar'].sum() / len(df)) * 100**\n"
   ]
  },
  {
   "cell_type": "code",
   "execution_count": 20,
   "metadata": {},
   "outputs": [
    {
     "name": "stdout",
     "output_type": "stream",
     "text": [
      "Percentage of patients with fasting blood sugar > 120 mg/dl: 29.60%\n"
     ]
    }
   ],
   "source": [
    "percentage_high_fasting_sugar = (df['fastingbloodsugar'].sum() / len(df)) * 100\n",
    "print(f\"Percentage of patients with fasting blood sugar > 120 mg/dl: {percentage_high_fasting_sugar:.2f}%\")\n"
   ]
  },
  {
   "cell_type": "markdown",
   "metadata": {},
   "source": [
    "<div style=\"border-radius: 10px; border: 2px solid #FFD700; padding: 15px; background-color:#FDF5E6; font-size: 100%; text-align: left;\">\n",
    "    \n",
    "<font size=\"+1\" color=\"#059c99\"><b>💞 7. What are the predominant resting electrocardiogram results in the dataset?</b></font>\n",
    "\n",
    "**Answer: 0 (normal), 1 (ST-T wave abnormality), 2 (probable or definite left ventricular hypertrophy)**\n",
    "\n",
    "**Explanation: The counts of normal and abnormal resting electrocardiogram results are determined from the 'restingrelectro' column. Use df['restingrelectro'].value_counts()**\n"
   ]
  },
  {
   "cell_type": "code",
   "execution_count": null,
   "metadata": {},
   "outputs": [],
   "source": [
    "resting_electro_counts = \n",
    "print(resting_electro_counts)\n"
   ]
  },
  {
   "cell_type": "markdown",
   "metadata": {},
   "source": [
    "## Visualization:\n",
    "\n",
    "What do you interpret from this plot?"
   ]
  },
  {
   "cell_type": "code",
   "execution_count": null,
   "metadata": {},
   "outputs": [],
   "source": [
    "chestpain_labels = {0: 'normal', 1: 'ST-T wave abnormality', 2: 'probable or definite'}\n",
    "counts = df['restingrelectro'].value_counts() \n",
    "\n",
    "# Replace index with descriptive labels using chestpain_labels dictionary\n",
    "counts.index = counts.index.map(chestpain_labels)\n",
    "\n",
    "# Plotting\n",
    "ax = counts.plot(kind='bar', color='skyblue', title='Distribution of Resting Electrocardiogram Results')\n",
    "ax.set_xlabel('Resting Electrocardiogram Results')\n",
    "ax.set_ylabel('Count')\n",
    "\n",
    "# Annotating bars with counts\n",
    "for p in ax.patches:\n",
    "    ax.annotate(str(p.get_height()), (p.get_x() + p.get_width() / 2., p.get_height()),\n",
    "                ha='center', va='bottom', color='black')\n",
    "\n",
    "plt.show()"
   ]
  },
  {
   "cell_type": "markdown",
   "metadata": {},
   "source": [
    "<div style=\"border-radius: 10px; border: 2px solid #FFD700; padding: 15px; background-color:#FDF5E6; font-size: 100%; text-align: left;\">\n",
    "    \n",
    "<font size=\"+1\" color=\"#059c99\"><b>💞 8. What is the average maximum heart rate achieved by the patients on average?</b></font>\n",
    "\n",
    "**Answer: Average Maximum Heart Rate: 145.48**\n",
    "\n",
    "**Explanation: The average maximum heart rate is calculated by taking the mean of values in the 'maxheartrate' column. Use df['maxheartrate'].mean()**\n"
   ]
  },
  {
   "cell_type": "code",
   "execution_count": null,
   "metadata": {},
   "outputs": [],
   "source": [
    "average_max_heart_rate = \n",
    "print(f\"Average Maximum Heart Rate: {average_max_heart_rate:.2f}\")\n"
   ]
  },
  {
   "cell_type": "markdown",
   "metadata": {},
   "source": [
    "<div style=\"border-radius: 10px; border: 2px solid #FFD700; padding: 15px; background-color:#FDF5E6; font-size: 100%; text-align: left;\">\n",
    "    \n",
    "<font size=\"+1\" color=\"#059c99\"><b>💞 9. How many patients experienced exercise-induced angina?</b></font>\n",
    "\n",
    "**Answer: Number of Patients with Exercise-Induced Angina: 498**\n",
    "\n",
    "**Explanation: The count of patients with exercise-induced angina is obtained from the 'exerciseangia' column. Use df['exerciseangia'].sum()**\n"
   ]
  },
  {
   "cell_type": "code",
   "execution_count": null,
   "metadata": {},
   "outputs": [],
   "source": [
    "exercise_angina_count = \n",
    "print(f\"Number of Patients with Exercise-Induced Angina: {exercise_angina_count}\")\n"
   ]
  },
  {
   "cell_type": "code",
   "execution_count": null,
   "metadata": {},
   "outputs": [],
   "source": []
  },
  {
   "cell_type": "markdown",
   "metadata": {},
   "source": [
    "<div style=\"border-radius: 10px; border: 2px solid #FFD700; padding: 15px; background-color:#FDF5E6; font-size: 100%; text-align: left;\">\n",
    "    \n",
    "<font size=\"+1\" color=\"#059c99\"><b>💞 10. What is the average oldpeak (ST depression induced by exercise relative to rest) among the patients?</b></font>\n",
    "\n",
    "**Answer: Average Oldpeak: 2.71**\n",
    "\n",
    "**Explanation: The average oldpeak is calculated by taking the mean of values in the 'oldpeak' column. Use df['oldpeak'].mean()**"
   ]
  },
  {
   "cell_type": "code",
   "execution_count": null,
   "metadata": {},
   "outputs": [],
   "source": [
    "average_oldpeak = \n",
    "print(f\"Average Oldpeak: {average_oldpeak:.2f}\")\n"
   ]
  },
  {
   "cell_type": "markdown",
   "metadata": {},
   "source": [
    "<div style=\"border-radius: 10px; border: 2px solid #FFD700; padding: 15px; background-color:#FDF5E6; font-size: 100%; text-align: left;\">\n",
    "    \n",
    "<font size=\"+1\" color=\"#059c99\"><b>💞 11. How is the slope of the peak exercise ST segment distributed in the dataset?</b></font>\n",
    "\n",
    "**Explanation: The distribution of the slope is visualized using a countplot, showing the frequency of each slope type in the 'slope' \n",
    "column.**\n",
    "\n",
    "**1 (upsloping), 2 (flat), 3 (downsloping)**\n"
   ]
  },
  {
   "cell_type": "code",
   "execution_count": null,
   "metadata": {},
   "outputs": [],
   "source": [
    "plt.figure(figsize=(10, 6))\n",
    "sns.countplot(x='slope', data=df, palette='viridis')\n",
    "plt.title('Distribution of Slope of Peak Exercise ST Segment')\n",
    "plt.xlabel('Slope')\n",
    "plt.ylabel('Count')\n",
    "plt.show()"
   ]
  },
  {
   "cell_type": "markdown",
   "metadata": {},
   "source": [
    "<div style=\"border-radius: 10px; border: 2px solid #FFD700; padding: 15px; background-color:#FDF5E6; font-size: 100%; text-align: left;\">\n",
    "    \n",
    "<font size=\"+1\" color=\"#059c99\"><b>💞 12. What is the range of the number of major vessels in the patients?</b></font>\n",
    "\n",
    "**Answer: Number of Major Vessels Range: 0 - 3**\n",
    "\n",
    "**Explanation: The range is determined by finding the minimum and maximum values in the 'noofmajorvessels' column.\n",
    "Use df['noofmajorvessels'].min() df['noofmajorvessels'].max()**\n"
   ]
  },
  {
   "cell_type": "code",
   "execution_count": 22,
   "metadata": {},
   "outputs": [
    {
     "name": "stdout",
     "output_type": "stream",
     "text": [
      "Number of Major Vessels Range: 0 - 3\n"
     ]
    }
   ],
   "source": [
    "min_vessels=df['noofmajorvessels'].min() \n",
    "max_vessels=df['noofmajorvessels'].max()\n",
    "vessels_range = f\"Number of Major Vessels Range: {min_vessels} - {max_vessels}\"\n",
    "print(vessels_range)\n"
   ]
  },
  {
   "cell_type": "markdown",
   "metadata": {},
   "source": [
    "## Visualization:\n",
    "\n",
    "What do you interpret from this plot?"
   ]
  },
  {
   "cell_type": "code",
   "execution_count": 21,
   "metadata": {},
   "outputs": [
    {
     "data": {
      "text/plain": [
       "<function matplotlib.pyplot.show(close=None, block=None)>"
      ]
     },
     "execution_count": 21,
     "metadata": {},
     "output_type": "execute_result"
    },
    {
     "data": {
      "image/png": "[encoded data removed]",
      "text/plain": [
       "<Figure size 1000x600 with 1 Axes>"
      ]
     },
     "metadata": {},
     "output_type": "display_data"
    }
   ],
   "source": [
    "plt.figure(figsize=(10, 6))\n",
    "sns.countplot(x='noofmajorvessels', data=df, palette='viridis')\n",
    "plt.title('Number of major vessels')\n",
    "plt.xlabel('Major Vessels')\n",
    "plt.ylabel('Count')\n",
    "plt.show\n",
    "\n"
   ]
  },
  {
   "cell_type": "markdown",
   "metadata": {},
   "source": [
    "<div style=\"border-radius: 10px; border: 2px solid #FFD700; padding: 15px; background-color:#FDF5E6; font-size: 100%; text-align: left;\">\n",
    "    \n",
    "<font size=\"+1\" color=\"#059c99\"><b>💞 13. What percentage of patients in the dataset have heart disease (target = 1)?</b></font>\n",
    "\n",
    "**Answer: Percentage of Patients with Heart Disease: 58.00%**\n",
    "\n",
    "**Explanation: The percentage is calculated by dividing the number of patients with heart disease (target = 1) by the total number of patients. Use (df['target'].sum() / len(df)) * 100**"
   ]
  },
  {
   "cell_type": "code",
   "execution_count": 23,
   "metadata": {},
   "outputs": [
    {
     "name": "stdout",
     "output_type": "stream",
     "text": [
      "Percentage of Patients with Heart Disease: 58.00%\n"
     ]
    }
   ],
   "source": [
    "percentage_heart_disease = (df['target'].sum() / len(df)) * 100\n",
    "print(f\"Percentage of Patients with Heart Disease: {percentage_heart_disease:.2f}%\")\n"
   ]
  },
  {
   "cell_type": "markdown",
   "metadata": {},
   "source": [
    "<div style=\"border-radius: 10px; border: 2px solid #FFD700; padding: 15px; background-color:#FDF5E6; font-size: 100%; text-align: left;\">\n",
    "    \n",
    "<font size=\"+1\" color=\"#059c99\"><b>💞 14. Can you identify the patient with the highest age in the dataset?</b></font>\n",
    "\n",
    "**Answer:**\n",
    "* Patient ID: 1160678\n",
    "* Age: 80\n",
    "* Gender: Female\n",
    "* Chest Pain: 1\n",
    "* Target: 1 (Heart Disease)\n",
    "\n",
    "**Explanation: The patient with the highest age is identified by finding the maximum value in the 'age' column and extracting other details.**"
   ]
  },
  {
   "cell_type": "code",
   "execution_count": 24,
   "metadata": {},
   "outputs": [
    {
     "name": "stdout",
     "output_type": "stream",
     "text": [
      "Details of the Oldest Patients:\n",
      "     patientid  age  gender  chestpain  restingBP  serumcholestrol  \\\n",
      "102    1160678   80       1          1        130              342   \n",
      "177    1780544   80       1          2        126              427   \n",
      "290    2879204   80       1          1        197              194   \n",
      "451    4507674   80       1          2        134              277   \n",
      "461    4612336   80       1          1        197              246   \n",
      "547    5446017   80       0          1        191              433   \n",
      "617    6276764   80       0          1        155              461   \n",
      "623    6316727   80       0          2         98              460   \n",
      "674    6906010   80       1          0        194              265   \n",
      "743    7618628   80       1          2        177              452   \n",
      "923    9262290   80       1          2        171              356   \n",
      "967    9661522   80       1          1        199              212   \n",
      "\n",
      "     fastingbloodsugar  restingrelectro  maxheartrate  exerciseangia  oldpeak  \\\n",
      "102                  0                0           176              1      2.5   \n",
      "177                  1                0           145              0      4.1   \n",
      "290                  0                2           168              0      5.9   \n",
      "451                  0                0           154              0      0.7   \n",
      "461                  1                1           158              1      3.5   \n",
      "547                  1                1           154              1      3.2   \n",
      "617                  1                0           163              1      0.8   \n",
      "623                  1                1           139              1      2.6   \n",
      "674                  0                0           191              0      4.7   \n",
      "743                  0                1           157              0      0.4   \n",
      "923                  1                0           175              1      2.4   \n",
      "967                  0                1           113              0      0.6   \n",
      "\n",
      "     slope  noofmajorvessels  target  \n",
      "102      0                 0       0  \n",
      "177      2                 2       1  \n",
      "290      3                 1       1  \n",
      "451      3                 3       1  \n",
      "461      2                 2       1  \n",
      "547      3                 3       1  \n",
      "617      1                 1       0  \n",
      "623      3                 3       1  \n",
      "674      0                 0       0  \n",
      "743      3                 1       1  \n",
      "923      2                 1       1  \n",
      "967      1                 0       1  \n"
     ]
    }
   ],
   "source": [
    "# Find the maximum age in the dataset\n",
    "max_age = df['age'].max()\n",
    "\n",
    "# Filter the DataFrame to only include rows where the age is equal to the maximum age\n",
    "oldest_patients = df[df['age'] == max_age]\n",
    "\n",
    "print(\"Details of the Oldest Patients:\")\n",
    "print(oldest_patients)\n",
    "\n"
   ]
  },
  {
   "cell_type": "markdown",
   "metadata": {},
   "source": [
    "<div style=\"border-radius: 10px; border: 2px solid #FFD700; padding: 15px; background-color:#FDF5E6; font-size: 100%; text-align: left;\">\n",
    "    \n",
    "<font size=\"+1\" color=\"#059c99\"><b>💞 15. Who is the patient with the lowest resting blood pressure?</b></font>\n",
    "\n",
    "**Answer:**\n",
    "* Patient ID: 119250\n",
    "* Age: 40\n",
    "* Gender: Female\n",
    "* Chest Pain: 0\n",
    "* Target: 0 (No Heart Disease)\n",
    "\n",
    "**Explanation: The patient with the lowest resting blood pressure is identified by finding the minimum value in the 'restingBP' column and extracting other details.**\n"
   ]
  },
  {
   "cell_type": "code",
   "execution_count": 25,
   "metadata": {},
   "outputs": [
    {
     "name": "stdout",
     "output_type": "stream",
     "text": [
      "Lowest resting BP is 94\n",
      "Details of the patient withlowest resting blood pressure:\n",
      "     patientid  age  gender  chestpain  restingBP  serumcholestrol  \\\n",
      "1       119250   40       1          0         94              229   \n",
      "205    2080399   34       1          2         94              254   \n",
      "299    2956524   70       1          0         94              258   \n",
      "506    4994167   35       0          2         94              368   \n",
      "753    7712383   68       0          0         94              269   \n",
      "770    7905830   27       1          2         94              174   \n",
      "893    8976590   47       0          0         94              433   \n",
      "975    9718692   64       0          0         94              428   \n",
      "\n",
      "     fastingbloodsugar  restingrelectro  maxheartrate  exerciseangia  oldpeak  \\\n",
      "1                    0                1           115              0      3.7   \n",
      "205                  0                1           196              1      3.7   \n",
      "299                  0                1           129              0      0.1   \n",
      "506                  0                0           196              0      2.4   \n",
      "753                  0                0           110              0      0.0   \n",
      "770                  0                2           186              1      5.7   \n",
      "893                  1                1           180              0      1.4   \n",
      "975                  0                0           159              1      1.5   \n",
      "\n",
      "     slope  noofmajorvessels  target  \n",
      "1        1                 1       0  \n",
      "205      2                 2       1  \n",
      "299      0                 0       0  \n",
      "506      3                 0       1  \n",
      "753      1                 0       0  \n",
      "770      2                 1       1  \n",
      "893      0                 0       0  \n",
      "975      0                 2       0  \n"
     ]
    }
   ],
   "source": [
    "min_BP = df['restingBP'].min()\n",
    "print(\"Lowest resting BP is\", min_BP)\n",
    "\n",
    "lowest_BP = df[df['restingBP'] == min_BP]\n",
    "\n",
    "print(\"Details of the patient withlowest resting blood pressure:\")\n",
    "print(lowest_BP)"
   ]
  },
  {
   "cell_type": "markdown",
   "metadata": {},
   "source": [
    "<div style=\"border-radius: 10px; border: 2px solid #FFD700; padding: 15px; background-color:#FDF5E6; font-size: 100%; text-align: left;\">\n",
    "    \n",
    "<font size=\"+1\" color=\"#059c99\"><b>💞 16. What is the correlation between age and maximum heart rate?</b></font>\n",
    "\n",
    "**Answer: Correlation between Age and Maximum Heart Rate: -0.04**\n",
    "\n",
    "**Explanation: The correlation coefficient is calculated to quantify the relationship between age and maximum heart rate. Use df['age'].corr(df['maxheartrate'])**\n"
   ]
  },
  {
   "cell_type": "code",
   "execution_count": 26,
   "metadata": {},
   "outputs": [
    {
     "name": "stdout",
     "output_type": "stream",
     "text": [
      "Correlation between Age and Maximum Heart Rate: -0.04\n"
     ]
    }
   ],
   "source": [
    "correlation_age_maxheartrate = df['age'].corr(df['maxheartrate'])\n",
    "print(f\"Correlation between Age and Maximum Heart Rate: {correlation_age_maxheartrate:.2f}\")\n"
   ]
  },
  {
   "cell_type": "markdown",
   "metadata": {},
   "source": [
    "<div style=\"border-radius: 10px; border: 2px solid #FFD700; padding: 15px; background-color:#FDF5E6; font-size: 100%; text-align: left;\">\n",
    "    \n",
    "<font size=\"+1\" color=\"#059c99\"><b>💞 17. Is there a relationship between chest pain type and the presence of heart disease?</b></font>\n",
    "\n",
    "**Explanation: The relationship is visualized using a countplot, showing the distribution of heart disease (yes/no) for each chest pain type.\n",
    "What do you interpret from the plot?**\n"
   ]
  },
  {
   "cell_type": "code",
   "execution_count": 27,
   "metadata": {},
   "outputs": [
    {
     "data": {
      "image/png": "[encoded data removed]",
      "text/plain": [
       "<Figure size 1000x600 with 1 Axes>"
      ]
     },
     "metadata": {},
     "output_type": "display_data"
    }
   ],
   "source": [
    "plt.figure(figsize=(10, 6))\n",
    "ax = sns.countplot(x=df['chestpain'].astype(str), hue=df['target'].astype(str), data=df, palette='Set1')\n",
    "plt.title('Heart Disease Presence by Chest Pain Type')\n",
    "# Custom legend\n",
    "handles, labels = ax.get_legend_handles_labels()\n",
    "ax.legend(handles=handles, labels=['No', 'Yes'], title='Heart Disease')\n",
    "# Set the x-tick labels without modifying the dataset\n",
    "ax.set_xticklabels(['Typical Angina', 'Atypical Angina', 'Non-Anginal Pain', 'Asymptomatic'], rotation=45)\n",
    "plt.xlabel('Chest Pain Type')\n",
    "plt.ylabel('Count')\n",
    "plt.tight_layout()  # Adjust layout to make room for the rotated x-tick labels\n",
    "plt.show()\n"
   ]
  },
  {
   "cell_type": "markdown",
   "metadata": {},
   "source": [
    "<div style=\"border-radius: 10px; border: 2px solid #FFD700; padding: 15px; background-color:#FDF5E6; font-size: 100%; text-align: left;\">\n",
    "    \n",
    "<font size=\"+1\" color=\"#059c99\"><b>💞 18. How does serum cholesterol differ between patients with and without heart disease?</b></font>\n",
    "\n",
    "**Explanation: The difference in serum cholesterol levels is visualized using a boxplot, comparing patients with and without heart disease. What do you observe from the boxplot?**\n"
   ]
  },
  {
   "cell_type": "code",
   "execution_count": 28,
   "metadata": {},
   "outputs": [
    {
     "data": {
      "image/png": "[encoded data removed]",
      "text/plain": [
       "<Figure size 1000x600 with 1 Axes>"
      ]
     },
     "metadata": {},
     "output_type": "display_data"
    }
   ],
   "source": [
    "plt.figure(figsize=(10, 6))\n",
    "sns.boxplot(x='target', y='serumcholestrol', data=df, palette='pastel')\n",
    "plt.title('Serum Cholesterol Distribution by Heart Disease Presence')\n",
    "plt.xlabel('Heart Disease Presence')\n",
    "plt.ylabel('Serum Cholesterol')\n",
    "plt.xticks(ticks=[0, 1], labels=['No Heart Disease', 'Heart Disease'])\n",
    "plt.show()"
   ]
  },
  {
   "cell_type": "markdown",
   "metadata": {},
   "source": [
    "<!-- <div style=\"border-radius: 10px; border: 2px solid #FFD700; padding: 15px; background-color:#FDF5E6; font-size: 100%; text-align: left;\">\n",
    "    \n",
    "<font size=\"+1\" color=\"#059c99\"><b>💞 19. What is the distribution of oldpeak values for patients with heart disease?</b></font>\n",
    "\n",
    "**Explanation: The distribution is visualized using a histogram with kernel density estimation, providing insights into the distribution of oldpeak values among patients with heart disease.**\n",
    " -->"
   ]
  },
  {
   "cell_type": "markdown",
   "metadata": {},
   "source": [
    "# <div style=\"color:white;display:inline-block;border-radius:5px;background-image: url(https://i.postimg.cc/fyD3nrX4/cardiovas-jcdumlao.png);font-family:Nexa;overflow:hidden\"><p style=\"padding:15px;color:white;overflow:hidden;font-size:95%;letter-spacing:0.5px;margin:0\"><b>ﮩ٨ـ❤️ﮩ٨ـﮩﮩ</b>Target Categorizing</p></div>"
   ]
  },
  {
   "cell_type": "code",
   "execution_count": 29,
   "metadata": {},
   "outputs": [
    {
     "data": {
      "text/plain": [
       "array([1, 0])"
      ]
     },
     "execution_count": 29,
     "metadata": {},
     "output_type": "execute_result"
    }
   ],
   "source": [
    "# target classes :\n",
    "df.target.unique()"
   ]
  },
  {
   "cell_type": "code",
   "execution_count": 30,
   "metadata": {},
   "outputs": [
    {
     "data": {
      "text/html": [
       "<div>\n",
       "<style scoped>\n",
       "    .dataframe tbody tr th:only-of-type {\n",
       "        vertical-align: middle;\n",
       "    }\n",
       "\n",
       "    .dataframe tbody tr th {\n",
       "        vertical-align: top;\n",
       "    }\n",
       "\n",
       "    .dataframe thead th {\n",
       "        text-align: right;\n",
       "    }\n",
       "</style>\n",
       "<table border=\"1\" class=\"dataframe\">\n",
       "  <thead>\n",
       "    <tr style=\"text-align: right;\">\n",
       "      <th></th>\n",
       "      <th>patientid</th>\n",
       "      <th>age</th>\n",
       "      <th>gender</th>\n",
       "      <th>chestpain</th>\n",
       "      <th>restingBP</th>\n",
       "      <th>serumcholestrol</th>\n",
       "      <th>fastingbloodsugar</th>\n",
       "      <th>restingrelectro</th>\n",
       "      <th>maxheartrate</th>\n",
       "      <th>exerciseangia</th>\n",
       "      <th>oldpeak</th>\n",
       "      <th>slope</th>\n",
       "      <th>noofmajorvessels</th>\n",
       "      <th>target</th>\n",
       "    </tr>\n",
       "  </thead>\n",
       "  <tbody>\n",
       "    <tr>\n",
       "      <th>0</th>\n",
       "      <td>103368</td>\n",
       "      <td>53</td>\n",
       "      <td>1</td>\n",
       "      <td>2</td>\n",
       "      <td>171</td>\n",
       "      <td>0</td>\n",
       "      <td>0</td>\n",
       "      <td>1</td>\n",
       "      <td>147</td>\n",
       "      <td>0</td>\n",
       "      <td>5.3</td>\n",
       "      <td>3</td>\n",
       "      <td>3</td>\n",
       "      <td>1</td>\n",
       "    </tr>\n",
       "    <tr>\n",
       "      <th>1</th>\n",
       "      <td>119250</td>\n",
       "      <td>40</td>\n",
       "      <td>1</td>\n",
       "      <td>0</td>\n",
       "      <td>94</td>\n",
       "      <td>229</td>\n",
       "      <td>0</td>\n",
       "      <td>1</td>\n",
       "      <td>115</td>\n",
       "      <td>0</td>\n",
       "      <td>3.7</td>\n",
       "      <td>1</td>\n",
       "      <td>1</td>\n",
       "      <td>0</td>\n",
       "    </tr>\n",
       "    <tr>\n",
       "      <th>2</th>\n",
       "      <td>119372</td>\n",
       "      <td>49</td>\n",
       "      <td>1</td>\n",
       "      <td>2</td>\n",
       "      <td>133</td>\n",
       "      <td>142</td>\n",
       "      <td>0</td>\n",
       "      <td>0</td>\n",
       "      <td>202</td>\n",
       "      <td>1</td>\n",
       "      <td>5.0</td>\n",
       "      <td>1</td>\n",
       "      <td>0</td>\n",
       "      <td>0</td>\n",
       "    </tr>\n",
       "    <tr>\n",
       "      <th>3</th>\n",
       "      <td>132514</td>\n",
       "      <td>43</td>\n",
       "      <td>1</td>\n",
       "      <td>0</td>\n",
       "      <td>138</td>\n",
       "      <td>295</td>\n",
       "      <td>1</td>\n",
       "      <td>1</td>\n",
       "      <td>153</td>\n",
       "      <td>0</td>\n",
       "      <td>3.2</td>\n",
       "      <td>2</td>\n",
       "      <td>2</td>\n",
       "      <td>1</td>\n",
       "    </tr>\n",
       "    <tr>\n",
       "      <th>4</th>\n",
       "      <td>146211</td>\n",
       "      <td>31</td>\n",
       "      <td>1</td>\n",
       "      <td>1</td>\n",
       "      <td>199</td>\n",
       "      <td>0</td>\n",
       "      <td>0</td>\n",
       "      <td>2</td>\n",
       "      <td>136</td>\n",
       "      <td>0</td>\n",
       "      <td>5.3</td>\n",
       "      <td>3</td>\n",
       "      <td>2</td>\n",
       "      <td>1</td>\n",
       "    </tr>\n",
       "  </tbody>\n",
       "</table>\n",
       "</div>"
      ],
      "text/plain": [
       "   patientid  age  gender  chestpain  restingBP  serumcholestrol  \\\n",
       "0     103368   53       1          2        171                0   \n",
       "1     119250   40       1          0         94              229   \n",
       "2     119372   49       1          2        133              142   \n",
       "3     132514   43       1          0        138              295   \n",
       "4     146211   31       1          1        199                0   \n",
       "\n",
       "   fastingbloodsugar  restingrelectro  maxheartrate  exerciseangia  oldpeak  \\\n",
       "0                  0                1           147              0      5.3   \n",
       "1                  0                1           115              0      3.7   \n",
       "2                  0                0           202              1      5.0   \n",
       "3                  1                1           153              0      3.2   \n",
       "4                  0                2           136              0      5.3   \n",
       "\n",
       "   slope  noofmajorvessels  target  \n",
       "0      3                 3       1  \n",
       "1      1                 1       0  \n",
       "2      1                 0       0  \n",
       "3      2                 2       1  \n",
       "4      3                 2       1  "
      ]
     },
     "execution_count": 30,
     "metadata": {},
     "output_type": "execute_result"
    }
   ],
   "source": [
    "df.head()"
   ]
  },
  {
   "cell_type": "markdown",
   "metadata": {},
   "source": [
    " # <div style=\"color:white;display:inline-block;border-radius:5px;background-image: url(https://i.postimg.cc/fyD3nrX4/cardiovas-jcdumlao.png);font-family:Nexa;overflow:hidden\"><p style=\"padding:15px;color:white;overflow:hidden;font-size:95%;letter-spacing:0.5px;margin:0\"><b>ﮩ٨ـ❤️ﮩ٨ـﮩﮩ</b>Standardization</p></div>\n",
    " "
   ]
  },
  {
   "cell_type": "code",
   "execution_count": 31,
   "metadata": {},
   "outputs": [],
   "source": [
    "# Create X from DataFrame and y as Target\n",
    "X_disease = df.drop(columns='target')\n",
    "y = df.target"
   ]
  },
  {
   "cell_type": "code",
   "execution_count": null,
   "metadata": {},
   "outputs": [],
   "source": []
  },
  {
   "cell_type": "code",
   "execution_count": 32,
   "metadata": {},
   "outputs": [
    {
     "data": {
      "text/html": [
       "<style type=\"text/css\">\n",
       "#T_9888a_row0_col0, #T_9888a_row1_col0, #T_9888a_row2_col0, #T_9888a_row2_col7, #T_9888a_row3_col0, #T_9888a_row4_col0, #T_9888a_row4_col1, #T_9888a_row5_col0, #T_9888a_row5_col3, #T_9888a_row6_col0, #T_9888a_row7_col0, #T_9888a_row7_col2, #T_9888a_row7_col6, #T_9888a_row8_col0, #T_9888a_row9_col0, #T_9888a_row9_col5, #T_9888a_row10_col0, #T_9888a_row11_col0, #T_9888a_row12_col0, #T_9888a_row12_col4 {\n",
       "  background-color: #0d0887;\n",
       "  color: #f1f1f1;\n",
       "}\n",
       "#T_9888a_row0_col1, #T_9888a_row3_col7 {\n",
       "  background-color: #f6e626;\n",
       "  color: #000000;\n",
       "}\n",
       "#T_9888a_row0_col2, #T_9888a_row1_col1, #T_9888a_row1_col2, #T_9888a_row2_col4, #T_9888a_row2_col5, #T_9888a_row5_col7, #T_9888a_row6_col3, #T_9888a_row6_col6 {\n",
       "  background-color: #f0f921;\n",
       "  color: #000000;\n",
       "}\n",
       "#T_9888a_row0_col3, #T_9888a_row5_col4 {\n",
       "  background-color: #aa2395;\n",
       "  color: #f1f1f1;\n",
       "}\n",
       "#T_9888a_row0_col4 {\n",
       "  background-color: #6f00a8;\n",
       "  color: #f1f1f1;\n",
       "}\n",
       "#T_9888a_row0_col5 {\n",
       "  background-color: #e56a5d;\n",
       "  color: #f1f1f1;\n",
       "}\n",
       "#T_9888a_row0_col6, #T_9888a_row11_col3 {\n",
       "  background-color: #c6417d;\n",
       "  color: #f1f1f1;\n",
       "}\n",
       "#T_9888a_row0_col7 {\n",
       "  background-color: #f2844b;\n",
       "  color: #f1f1f1;\n",
       "}\n",
       "#T_9888a_row1_col3 {\n",
       "  background-color: #b6308b;\n",
       "  color: #f1f1f1;\n",
       "}\n",
       "#T_9888a_row1_col4 {\n",
       "  background-color: #7201a8;\n",
       "  color: #f1f1f1;\n",
       "}\n",
       "#T_9888a_row1_col5 {\n",
       "  background-color: #e76f5a;\n",
       "  color: #f1f1f1;\n",
       "}\n",
       "#T_9888a_row1_col6 {\n",
       "  background-color: #b7318a;\n",
       "  color: #f1f1f1;\n",
       "}\n",
       "#T_9888a_row1_col7 {\n",
       "  background-color: #f48849;\n",
       "  color: #f1f1f1;\n",
       "}\n",
       "#T_9888a_row2_col1 {\n",
       "  background-color: #f07f4f;\n",
       "  color: #f1f1f1;\n",
       "}\n",
       "#T_9888a_row2_col2, #T_9888a_row3_col2, #T_9888a_row4_col2, #T_9888a_row5_col2, #T_9888a_row6_col2, #T_9888a_row8_col2, #T_9888a_row9_col2, #T_9888a_row10_col2, #T_9888a_row11_col2, #T_9888a_row12_col2 {\n",
       "  background-color: #cc4778;\n",
       "  color: #f1f1f1;\n",
       "}\n",
       "#T_9888a_row2_col3 {\n",
       "  background-color: #9814a0;\n",
       "  color: #f1f1f1;\n",
       "}\n",
       "#T_9888a_row2_col6 {\n",
       "  background-color: #6400a7;\n",
       "  color: #f1f1f1;\n",
       "}\n",
       "#T_9888a_row3_col1 {\n",
       "  background-color: #f99a3e;\n",
       "  color: #000000;\n",
       "}\n",
       "#T_9888a_row3_col3 {\n",
       "  background-color: #fa9e3b;\n",
       "  color: #000000;\n",
       "}\n",
       "#T_9888a_row3_col4 {\n",
       "  background-color: #4b03a1;\n",
       "  color: #f1f1f1;\n",
       "}\n",
       "#T_9888a_row3_col5, #T_9888a_row7_col7, #T_9888a_row8_col5 {\n",
       "  background-color: #eb7556;\n",
       "  color: #f1f1f1;\n",
       "}\n",
       "#T_9888a_row3_col6 {\n",
       "  background-color: #e3685f;\n",
       "  color: #f1f1f1;\n",
       "}\n",
       "#T_9888a_row4_col3 {\n",
       "  background-color: #7d03a8;\n",
       "  color: #f1f1f1;\n",
       "}\n",
       "#T_9888a_row4_col4 {\n",
       "  background-color: #8606a6;\n",
       "  color: #f1f1f1;\n",
       "}\n",
       "#T_9888a_row4_col5 {\n",
       "  background-color: #d5536f;\n",
       "  color: #f1f1f1;\n",
       "}\n",
       "#T_9888a_row4_col6 {\n",
       "  background-color: #d35171;\n",
       "  color: #f1f1f1;\n",
       "}\n",
       "#T_9888a_row4_col7 {\n",
       "  background-color: #e97158;\n",
       "  color: #f1f1f1;\n",
       "}\n",
       "#T_9888a_row5_col1 {\n",
       "  background-color: #f68d45;\n",
       "  color: #f1f1f1;\n",
       "}\n",
       "#T_9888a_row5_col5 {\n",
       "  background-color: #ee7b51;\n",
       "  color: #f1f1f1;\n",
       "}\n",
       "#T_9888a_row5_col6 {\n",
       "  background-color: #920fa3;\n",
       "  color: #f1f1f1;\n",
       "}\n",
       "#T_9888a_row6_col1, #T_9888a_row12_col1 {\n",
       "  background-color: #fba139;\n",
       "  color: #000000;\n",
       "}\n",
       "#T_9888a_row6_col4 {\n",
       "  background-color: #9c179e;\n",
       "  color: #f1f1f1;\n",
       "}\n",
       "#T_9888a_row6_col5 {\n",
       "  background-color: #7401a8;\n",
       "  color: #f1f1f1;\n",
       "}\n",
       "#T_9888a_row6_col7 {\n",
       "  background-color: #e26561;\n",
       "  color: #f1f1f1;\n",
       "}\n",
       "#T_9888a_row7_col1 {\n",
       "  background-color: #fdb52e;\n",
       "  color: #000000;\n",
       "}\n",
       "#T_9888a_row7_col3 {\n",
       "  background-color: #fdab33;\n",
       "  color: #000000;\n",
       "}\n",
       "#T_9888a_row7_col4 {\n",
       "  background-color: #5801a4;\n",
       "  color: #f1f1f1;\n",
       "}\n",
       "#T_9888a_row7_col5 {\n",
       "  background-color: #febb2b;\n",
       "  color: #000000;\n",
       "}\n",
       "#T_9888a_row8_col1 {\n",
       "  background-color: #de6164;\n",
       "  color: #f1f1f1;\n",
       "}\n",
       "#T_9888a_row8_col3 {\n",
       "  background-color: #43039e;\n",
       "  color: #f1f1f1;\n",
       "}\n",
       "#T_9888a_row8_col4, #T_9888a_row9_col7 {\n",
       "  background-color: #8707a6;\n",
       "  color: #f1f1f1;\n",
       "}\n",
       "#T_9888a_row8_col6 {\n",
       "  background-color: #bd3786;\n",
       "  color: #f1f1f1;\n",
       "}\n",
       "#T_9888a_row8_col7 {\n",
       "  background-color: #ed7a52;\n",
       "  color: #f1f1f1;\n",
       "}\n",
       "#T_9888a_row9_col1 {\n",
       "  background-color: #e66c5c;\n",
       "  color: #f1f1f1;\n",
       "}\n",
       "#T_9888a_row9_col3 {\n",
       "  background-color: #fca537;\n",
       "  color: #000000;\n",
       "}\n",
       "#T_9888a_row9_col4 {\n",
       "  background-color: #5302a3;\n",
       "  color: #f1f1f1;\n",
       "}\n",
       "#T_9888a_row9_col6 {\n",
       "  background-color: #d8576b;\n",
       "  color: #f1f1f1;\n",
       "}\n",
       "#T_9888a_row10_col1 {\n",
       "  background-color: #fba238;\n",
       "  color: #000000;\n",
       "}\n",
       "#T_9888a_row10_col3 {\n",
       "  background-color: #c03a83;\n",
       "  color: #f1f1f1;\n",
       "}\n",
       "#T_9888a_row10_col4 {\n",
       "  background-color: #7a02a8;\n",
       "  color: #f1f1f1;\n",
       "}\n",
       "#T_9888a_row10_col5 {\n",
       "  background-color: #d14e72;\n",
       "  color: #f1f1f1;\n",
       "}\n",
       "#T_9888a_row10_col6, #T_9888a_row11_col4 {\n",
       "  background-color: #b02991;\n",
       "  color: #f1f1f1;\n",
       "}\n",
       "#T_9888a_row10_col7 {\n",
       "  background-color: #fcce25;\n",
       "  color: #000000;\n",
       "}\n",
       "#T_9888a_row11_col1 {\n",
       "  background-color: #f0804e;\n",
       "  color: #f1f1f1;\n",
       "}\n",
       "#T_9888a_row11_col5 {\n",
       "  background-color: #f8df25;\n",
       "  color: #000000;\n",
       "}\n",
       "#T_9888a_row11_col6 {\n",
       "  background-color: #44039e;\n",
       "  color: #f1f1f1;\n",
       "}\n",
       "#T_9888a_row11_col7 {\n",
       "  background-color: #d6556d;\n",
       "  color: #f1f1f1;\n",
       "}\n",
       "#T_9888a_row12_col3 {\n",
       "  background-color: #e97257;\n",
       "  color: #f1f1f1;\n",
       "}\n",
       "#T_9888a_row12_col5 {\n",
       "  background-color: #ca457a;\n",
       "  color: #f1f1f1;\n",
       "}\n",
       "#T_9888a_row12_col6 {\n",
       "  background-color: #ac2694;\n",
       "  color: #f1f1f1;\n",
       "}\n",
       "#T_9888a_row12_col7 {\n",
       "  background-color: #fa9c3c;\n",
       "  color: #000000;\n",
       "}\n",
       "</style>\n",
       "<table id=\"T_9888a\">\n",
       "  <thead>\n",
       "    <tr>\n",
       "      <th class=\"blank level0\" >&nbsp;</th>\n",
       "      <th id=\"T_9888a_level0_col0\" class=\"col_heading level0 col0\" >count</th>\n",
       "      <th id=\"T_9888a_level0_col1\" class=\"col_heading level0 col1\" >mean</th>\n",
       "      <th id=\"T_9888a_level0_col2\" class=\"col_heading level0 col2\" >std</th>\n",
       "      <th id=\"T_9888a_level0_col3\" class=\"col_heading level0 col3\" >min</th>\n",
       "      <th id=\"T_9888a_level0_col4\" class=\"col_heading level0 col4\" >25%</th>\n",
       "      <th id=\"T_9888a_level0_col5\" class=\"col_heading level0 col5\" >50%</th>\n",
       "      <th id=\"T_9888a_level0_col6\" class=\"col_heading level0 col6\" >75%</th>\n",
       "      <th id=\"T_9888a_level0_col7\" class=\"col_heading level0 col7\" >max</th>\n",
       "    </tr>\n",
       "  </thead>\n",
       "  <tbody>\n",
       "    <tr>\n",
       "      <th id=\"T_9888a_level0_row0\" class=\"row_heading level0 row0\" >patientid</th>\n",
       "      <td id=\"T_9888a_row0_col0\" class=\"data row0 col0\" >1000.000000</td>\n",
       "      <td id=\"T_9888a_row0_col1\" class=\"data row0 col1\" >0.000000</td>\n",
       "      <td id=\"T_9888a_row0_col2\" class=\"data row0 col2\" >1.000500</td>\n",
       "      <td id=\"T_9888a_row0_col3\" class=\"data row0 col3\" >-1.708555</td>\n",
       "      <td id=\"T_9888a_row0_col4\" class=\"data row0 col4\" >-0.867957</td>\n",
       "      <td id=\"T_9888a_row0_col5\" class=\"data row0 col5\" >-0.033235</td>\n",
       "      <td id=\"T_9888a_row0_col6\" class=\"data row0 col6\" >0.909730</td>\n",
       "      <td id=\"T_9888a_row0_col7\" class=\"data row0 col7\" >1.707454</td>\n",
       "    </tr>\n",
       "    <tr>\n",
       "      <th id=\"T_9888a_level0_row1\" class=\"row_heading level0 row1\" >age</th>\n",
       "      <td id=\"T_9888a_row1_col0\" class=\"data row1 col0\" >1000.000000</td>\n",
       "      <td id=\"T_9888a_row1_col1\" class=\"data row1 col1\" >0.000000</td>\n",
       "      <td id=\"T_9888a_row1_col2\" class=\"data row1 col2\" >1.000500</td>\n",
       "      <td id=\"T_9888a_row1_col3\" class=\"data row1 col3\" >-1.637676</td>\n",
       "      <td id=\"T_9888a_row1_col4\" class=\"data row1 col4\" >-0.853616</td>\n",
       "      <td id=\"T_9888a_row1_col5\" class=\"data row1 col5\" >-0.013553</td>\n",
       "      <td id=\"T_9888a_row1_col6\" class=\"data row1 col6\" >0.840511</td>\n",
       "      <td id=\"T_9888a_row1_col7\" class=\"data row1 col7\" >1.722578</td>\n",
       "    </tr>\n",
       "    <tr>\n",
       "      <th id=\"T_9888a_level0_row2\" class=\"row_heading level0 row2\" >gender</th>\n",
       "      <td id=\"T_9888a_row2_col0\" class=\"data row2 col0\" >1000.000000</td>\n",
       "      <td id=\"T_9888a_row2_col1\" class=\"data row2 col1\" >-0.000000</td>\n",
       "      <td id=\"T_9888a_row2_col2\" class=\"data row2 col2\" >1.000500</td>\n",
       "      <td id=\"T_9888a_row2_col3\" class=\"data row2 col3\" >-1.804250</td>\n",
       "      <td id=\"T_9888a_row2_col4\" class=\"data row2 col4\" >0.554247</td>\n",
       "      <td id=\"T_9888a_row2_col5\" class=\"data row2 col5\" >0.554247</td>\n",
       "      <td id=\"T_9888a_row2_col6\" class=\"data row2 col6\" >0.554247</td>\n",
       "      <td id=\"T_9888a_row2_col7\" class=\"data row2 col7\" >0.554247</td>\n",
       "    </tr>\n",
       "    <tr>\n",
       "      <th id=\"T_9888a_level0_row3\" class=\"row_heading level0 row3\" >chestpain</th>\n",
       "      <td id=\"T_9888a_row3_col0\" class=\"data row3 col0\" >1000.000000</td>\n",
       "      <td id=\"T_9888a_row3_col1\" class=\"data row3 col1\" >-0.000000</td>\n",
       "      <td id=\"T_9888a_row3_col2\" class=\"data row3 col2\" >1.000500</td>\n",
       "      <td id=\"T_9888a_row3_col3\" class=\"data row3 col3\" >-1.028677</td>\n",
       "      <td id=\"T_9888a_row3_col4\" class=\"data row3 col4\" >-1.028677</td>\n",
       "      <td id=\"T_9888a_row3_col5\" class=\"data row3 col5\" >0.020993</td>\n",
       "      <td id=\"T_9888a_row3_col6\" class=\"data row3 col6\" >1.070663</td>\n",
       "      <td id=\"T_9888a_row3_col7\" class=\"data row3 col7\" >2.120333</td>\n",
       "    </tr>\n",
       "    <tr>\n",
       "      <th id=\"T_9888a_level0_row4\" class=\"row_heading level0 row4\" >restingBP</th>\n",
       "      <td id=\"T_9888a_row4_col0\" class=\"data row4 col0\" >1000.000000</td>\n",
       "      <td id=\"T_9888a_row4_col1\" class=\"data row4 col1\" >-0.000000</td>\n",
       "      <td id=\"T_9888a_row4_col2\" class=\"data row4 col2\" >1.000500</td>\n",
       "      <td id=\"T_9888a_row4_col3\" class=\"data row4 col3\" >-1.928098</td>\n",
       "      <td id=\"T_9888a_row4_col4\" class=\"data row4 col4\" >-0.759493</td>\n",
       "      <td id=\"T_9888a_row4_col5\" class=\"data row4 col5\" >-0.158496</td>\n",
       "      <td id=\"T_9888a_row4_col6\" class=\"data row4 col6\" >0.976720</td>\n",
       "      <td id=\"T_9888a_row4_col7\" class=\"data row4 col7\" >1.611106</td>\n",
       "    </tr>\n",
       "    <tr>\n",
       "      <th id=\"T_9888a_level0_row5\" class=\"row_heading level0 row5\" >serumcholestrol</th>\n",
       "      <td id=\"T_9888a_row5_col0\" class=\"data row5 col0\" >1000.000000</td>\n",
       "      <td id=\"T_9888a_row5_col1\" class=\"data row5 col1\" >-0.000000</td>\n",
       "      <td id=\"T_9888a_row5_col2\" class=\"data row5 col2\" >1.000500</td>\n",
       "      <td id=\"T_9888a_row5_col3\" class=\"data row5 col3\" >-2.352717</td>\n",
       "      <td id=\"T_9888a_row5_col4\" class=\"data row5 col4\" >-0.571827</td>\n",
       "      <td id=\"T_9888a_row5_col5\" class=\"data row5 col5\" >0.049502</td>\n",
       "      <td id=\"T_9888a_row5_col6\" class=\"data row5 col6\" >0.701048</td>\n",
       "      <td id=\"T_9888a_row5_col7\" class=\"data row5 col7\" >2.194881</td>\n",
       "    </tr>\n",
       "    <tr>\n",
       "      <th id=\"T_9888a_level0_row6\" class=\"row_heading level0 row6\" >fastingbloodsugar</th>\n",
       "      <td id=\"T_9888a_row6_col0\" class=\"data row6 col0\" >1000.000000</td>\n",
       "      <td id=\"T_9888a_row6_col1\" class=\"data row6 col1\" >0.000000</td>\n",
       "      <td id=\"T_9888a_row6_col2\" class=\"data row6 col2\" >1.000500</td>\n",
       "      <td id=\"T_9888a_row6_col3\" class=\"data row6 col3\" >-0.648425</td>\n",
       "      <td id=\"T_9888a_row6_col4\" class=\"data row6 col4\" >-0.648425</td>\n",
       "      <td id=\"T_9888a_row6_col5\" class=\"data row6 col5\" >-0.648425</td>\n",
       "      <td id=\"T_9888a_row6_col6\" class=\"data row6 col6\" >1.542199</td>\n",
       "      <td id=\"T_9888a_row6_col7\" class=\"data row6 col7\" >1.542199</td>\n",
       "    </tr>\n",
       "    <tr>\n",
       "      <th id=\"T_9888a_level0_row7\" class=\"row_heading level0 row7\" >restingrelectro</th>\n",
       "      <td id=\"T_9888a_row7_col0\" class=\"data row7 col0\" >1000.000000</td>\n",
       "      <td id=\"T_9888a_row7_col1\" class=\"data row7 col1\" >0.000000</td>\n",
       "      <td id=\"T_9888a_row7_col2\" class=\"data row7 col2\" >1.000500</td>\n",
       "      <td id=\"T_9888a_row7_col3\" class=\"data row7 col3\" >-0.971760</td>\n",
       "      <td id=\"T_9888a_row7_col4\" class=\"data row7 col4\" >-0.971760</td>\n",
       "      <td id=\"T_9888a_row7_col5\" class=\"data row7 col5\" >0.327384</td>\n",
       "      <td id=\"T_9888a_row7_col6\" class=\"data row7 col6\" >0.327384</td>\n",
       "      <td id=\"T_9888a_row7_col7\" class=\"data row7 col7\" >1.626528</td>\n",
       "    </tr>\n",
       "    <tr>\n",
       "      <th id=\"T_9888a_level0_row8\" class=\"row_heading level0 row8\" >maxheartrate</th>\n",
       "      <td id=\"T_9888a_row8_col0\" class=\"data row8 col0\" >1000.000000</td>\n",
       "      <td id=\"T_9888a_row8_col1\" class=\"data row8 col1\" >-0.000000</td>\n",
       "      <td id=\"T_9888a_row8_col2\" class=\"data row8 col2\" >1.000500</td>\n",
       "      <td id=\"T_9888a_row8_col3\" class=\"data row8 col3\" >-2.179400</td>\n",
       "      <td id=\"T_9888a_row8_col4\" class=\"data row8 col4\" >-0.752842</td>\n",
       "      <td id=\"T_9888a_row8_col5\" class=\"data row8 col5\" >0.015304</td>\n",
       "      <td id=\"T_9888a_row8_col6\" class=\"data row8 col6\" >0.863923</td>\n",
       "      <td id=\"T_9888a_row8_col7\" class=\"data row8 col7\" >1.654017</td>\n",
       "    </tr>\n",
       "    <tr>\n",
       "      <th id=\"T_9888a_level0_row9\" class=\"row_heading level0 row9\" >exerciseangia</th>\n",
       "      <td id=\"T_9888a_row9_col0\" class=\"data row9 col0\" >1000.000000</td>\n",
       "      <td id=\"T_9888a_row9_col1\" class=\"data row9 col1\" >-0.000000</td>\n",
       "      <td id=\"T_9888a_row9_col2\" class=\"data row9 col2\" >1.000500</td>\n",
       "      <td id=\"T_9888a_row9_col3\" class=\"data row9 col3\" >-0.996008</td>\n",
       "      <td id=\"T_9888a_row9_col4\" class=\"data row9 col4\" >-0.996008</td>\n",
       "      <td id=\"T_9888a_row9_col5\" class=\"data row9 col5\" >-0.996008</td>\n",
       "      <td id=\"T_9888a_row9_col6\" class=\"data row9 col6\" >1.004008</td>\n",
       "      <td id=\"T_9888a_row9_col7\" class=\"data row9 col7\" >1.004008</td>\n",
       "    </tr>\n",
       "    <tr>\n",
       "      <th id=\"T_9888a_level0_row10\" class=\"row_heading level0 row10\" >oldpeak</th>\n",
       "      <td id=\"T_9888a_row10_col0\" class=\"data row10 col0\" >1000.000000</td>\n",
       "      <td id=\"T_9888a_row10_col1\" class=\"data row10 col1\" >0.000000</td>\n",
       "      <td id=\"T_9888a_row10_col2\" class=\"data row10 col2\" >1.000500</td>\n",
       "      <td id=\"T_9888a_row10_col3\" class=\"data row10 col3\" >-1.574342</td>\n",
       "      <td id=\"T_9888a_row10_col4\" class=\"data row10 col4\" >-0.818481</td>\n",
       "      <td id=\"T_9888a_row10_col5\" class=\"data row10 col5\" >-0.178907</td>\n",
       "      <td id=\"T_9888a_row10_col6\" class=\"data row10 col6\" >0.809527</td>\n",
       "      <td id=\"T_9888a_row10_col7\" class=\"data row10 col7\" >2.030534</td>\n",
       "    </tr>\n",
       "    <tr>\n",
       "      <th id=\"T_9888a_level0_row11\" class=\"row_heading level0 row11\" >slope</th>\n",
       "      <td id=\"T_9888a_row11_col0\" class=\"data row11 col0\" >1000.000000</td>\n",
       "      <td id=\"T_9888a_row11_col1\" class=\"data row11 col1\" >-0.000000</td>\n",
       "      <td id=\"T_9888a_row11_col2\" class=\"data row11 col2\" >1.000500</td>\n",
       "      <td id=\"T_9888a_row11_col3\" class=\"data row11 col3\" >-1.535096</td>\n",
       "      <td id=\"T_9888a_row11_col4\" class=\"data row11 col4\" >-0.538280</td>\n",
       "      <td id=\"T_9888a_row11_col5\" class=\"data row11 col5\" >0.458535</td>\n",
       "      <td id=\"T_9888a_row11_col6\" class=\"data row11 col6\" >0.458535</td>\n",
       "      <td id=\"T_9888a_row11_col7\" class=\"data row11 col7\" >1.455350</td>\n",
       "    </tr>\n",
       "    <tr>\n",
       "      <th id=\"T_9888a_level0_row12\" class=\"row_heading level0 row12\" >noofmajorvessels</th>\n",
       "      <td id=\"T_9888a_row12_col0\" class=\"data row12 col0\" >1000.000000</td>\n",
       "      <td id=\"T_9888a_row12_col1\" class=\"data row12 col1\" >0.000000</td>\n",
       "      <td id=\"T_9888a_row12_col2\" class=\"data row12 col2\" >1.000500</td>\n",
       "      <td id=\"T_9888a_row12_col3\" class=\"data row12 col3\" >-1.250645</td>\n",
       "      <td id=\"T_9888a_row12_col4\" class=\"data row12 col4\" >-1.250645</td>\n",
       "      <td id=\"T_9888a_row12_col5\" class=\"data row12 col5\" >-0.227204</td>\n",
       "      <td id=\"T_9888a_row12_col6\" class=\"data row12 col6\" >0.796237</td>\n",
       "      <td id=\"T_9888a_row12_col7\" class=\"data row12 col7\" >1.819678</td>\n",
       "    </tr>\n",
       "  </tbody>\n",
       "</table>\n"
      ],
      "text/plain": [
       "<pandas.io.formats.style.Styler at 0x28abd8c90>"
      ]
     },
     "execution_count": 32,
     "metadata": {},
     "output_type": "execute_result"
    }
   ],
   "source": [
    "from sklearn.preprocessing import StandardScaler\n",
    "\n",
    "\n",
    "# Assuming X_disease is your DataFrame containing the features to be scaled\n",
    "scaler = StandardScaler().fit_transform(X_disease)\n",
    "X = pd.DataFrame(scaler, columns=X_disease.columns)\n",
    "\n",
    "# Display the descriptive statistics of the scaled features\n",
    "X.describe().T.style.background_gradient(axis=0, cmap='plasma')\n"
   ]
  },
  {
   "cell_type": "markdown",
   "metadata": {},
   "source": [
    "# <div style=\"color:white;display:inline-block;border-radius:5px;background-image: url(https://i.postimg.cc/fyD3nrX4/cardiovas-jcdumlao.png);font-family:Nexa;overflow:hidden\"><p style=\"padding:15px;color:white;overflow:hidden;font-size:95%;letter-spacing:0.5px;margin:0\"><b>ﮩ٨ـ❤️ﮩ٨ـﮩﮩ</b>Modelling</p></div>\n"
   ]
  },
  {
   "cell_type": "markdown",
   "metadata": {},
   "source": [
    "### Test train Split"
   ]
  },
  {
   "cell_type": "code",
   "execution_count": 33,
   "metadata": {},
   "outputs": [
    {
     "data": {
      "text/plain": [
       "target\n",
       "1    580\n",
       "0    420\n",
       "Name: count, dtype: int64"
      ]
     },
     "execution_count": 33,
     "metadata": {},
     "output_type": "execute_result"
    }
   ],
   "source": [
    "df.target.value_counts()"
   ]
  },
  {
   "cell_type": "code",
   "execution_count": 36,
   "metadata": {},
   "outputs": [],
   "source": [
    "from sklearn.model_selection import train_test_split\n",
    "\n",
    "# Split Dataframe\n",
    "X_train, X_test, y_train, y_test = train_test_split(X, y, test_size=0.20, random_state=0)"
   ]
  },
  {
   "cell_type": "markdown",
   "metadata": {},
   "source": [
    "# <div style=\"color:white;display:inline-block;border-radius:5px;background-image: url(https://i.postimg.cc/fyD3nrX4/cardiovas-jcdumlao.png);font-family:Nexa;overflow:hidden\"><p style=\"padding:15px;color:white;overflow:hidden;font-size:95%;letter-spacing:0.5px;margin:0\"><b>ﮩ٨ـ❤️ﮩ٨ـﮩﮩ</b>Ridge Regression</p></div>\n"
   ]
  },
  {
   "cell_type": "markdown",
   "metadata": {},
   "source": [
    "## Performing Ridge Regression with Cross-Validation"
   ]
  },
  {
   "cell_type": "code",
   "execution_count": 37,
   "metadata": {},
   "outputs": [],
   "source": [
    "from sklearn.linear_model import RidgeCV\n",
    "from sklearn.metrics import confusion_matrix\n"
   ]
  },
  {
   "cell_type": "code",
   "execution_count": 38,
   "metadata": {},
   "outputs": [
    {
     "name": "stdout",
     "output_type": "stream",
     "text": [
      "Best alpha value: 10.0\n"
     ]
    }
   ],
   "source": [
    "# Define alphas for cross-validation\n",
    "alphas = [0.01, 0.1, 1, 10, 100]\n",
    "\n",
    "# alpha = np.logspace()\n",
    "\n",
    "# Setup the ridge regression with built-in cross-validation\n",
    "#normally 5  (for proximatly 1000 ) or 10 fold (for 10.000) \n",
    "ridge_cv = RidgeCV(alphas=alphas, cv=5)\n",
    "\n",
    "# Fit the model\n",
    "ridge_cv.fit(X_train, y_train)\n",
    "\n",
    "# ridge_cv.alpha_ gives you the best alpha value found during CV\n",
    "print(\"Best alpha value:\", ridge_cv.alpha_)\n"
   ]
  },
  {
   "cell_type": "code",
   "execution_count": 39,
   "metadata": {},
   "outputs": [
    {
     "name": "stdout",
     "output_type": "stream",
     "text": [
      "[ 1.02283155  0.79540978  0.99679021  0.05242581  0.72196735  0.2068616\n",
      "  0.73332862  0.24381005  1.28975256  0.7437425   0.82474088  0.90253323\n",
      " -0.10848692  0.72796381 -0.12196861  0.74329139  1.29403007  1.01923579\n",
      "  0.26154918  0.28435105  0.02646661  0.41506965 -0.05438955  1.17597546\n",
      "  0.69497645 -0.03656575  0.33623916  0.93553277  0.94887518  0.12544592\n",
      "  0.27788969  0.2377106   0.87375185  1.27292326  1.04255558  0.62468359\n",
      "  1.35971724  0.1273705   0.07724246  0.62743407  0.24466304  0.547954\n",
      "  0.8201762   0.2638493   1.32606091  1.05449642  0.07865957  0.08271675\n",
      "  0.24590318  0.65524508 -0.08029681  0.26788675  0.65589807  0.73668152\n",
      "  0.40563051  0.84897851  1.22745265 -0.11096178  0.69117836  0.76168213\n",
      "  0.96956986 -0.20480122  0.67253563  1.11264584 -0.05971252  0.7319327\n",
      "  0.93682382  0.14233059  0.82199349 -0.20712925  0.5643037  -0.06282065\n",
      "  0.45571055  0.12509377 -0.01064786  0.64583852 -0.01751979  1.1851637\n",
      "  1.12992047  0.81703105  0.83553353 -0.12049811  0.75122588  0.70480484\n",
      "  0.45235832 -0.14383171  0.01640775 -0.10160071  0.28729687  0.82983528\n",
      "  0.78127835  0.11236318  0.91355763  0.48583577  0.79723241  0.60797402\n",
      "  0.37820251  1.06121563  0.79560661  1.10194051  0.8074334   0.33671288\n",
      "  0.98322828  0.25765366  0.95904156  1.20405201  0.53832952  0.69150774\n",
      "  0.37703117  0.80052562  0.77179382  0.88333134  0.26187724 -0.01895342\n",
      "  0.36979311  0.09729321  1.03521046  0.32302057  0.94007085  0.30630757\n",
      "  0.29886553  0.51747939  0.13537939 -0.0958038   1.3168501   0.17290256\n",
      "  0.21588361  0.97306365  0.7340977   0.17177632  0.26285749 -0.1929579\n",
      "  0.14514133  0.24648731  0.06047636  0.31487558 -0.08582708 -0.04407384\n",
      "  1.02202349  0.26932539  0.04586771  0.23112041  1.10595808  0.9825018\n",
      "  1.12485478  0.9184535   0.11030848  1.12033201  0.74910308  1.21244947\n",
      "  0.15438017 -0.23078199  0.10582578  1.11913441 -0.16367269  0.79744579\n",
      "  0.78580676  0.22149276  0.71193148  1.00119129  0.69238948  1.09289943\n",
      "  0.1625723   0.47544123  0.77652069  1.19075485  0.88257255  0.80157683\n",
      "  0.77877317 -0.12242222 -0.01993988  1.2285732   0.69827831  0.73945159\n",
      "  0.1065167  -0.15440066  0.86098547  0.25574537  1.19733466  1.03588439\n",
      "  0.17532871 -0.06011444  0.01671058 -0.01999802  0.34220238  1.21854771\n",
      "  0.07584263  0.90725994  1.06107588  0.24779699  0.91303582  0.77312967\n",
      "  0.41267599  0.95417291  0.26561478  0.68240878  0.19429109  1.09985258\n",
      "  1.11922702  0.57228042]\n"
     ]
    }
   ],
   "source": [
    "# Predict on the test set\n",
    "y_pred = ridge_cv.predict(X_test)\n",
    "print(y_pred)"
   ]
  },
  {
   "cell_type": "code",
   "execution_count": 41,
   "metadata": {},
   "outputs": [],
   "source": [
    "# Apply manual threshold of 0.5\n",
    "\n",
    "y_pred_ridge = (y_pred > 0.5).astype(int)"
   ]
  },
  {
   "cell_type": "code",
   "execution_count": 42,
   "metadata": {},
   "outputs": [
    {
     "data": {
      "text/plain": [
       "array([[ 90,   5],\n",
       "       [  3, 102]])"
      ]
     },
     "execution_count": 42,
     "metadata": {},
     "output_type": "execute_result"
    }
   ],
   "source": [
    "# Generate the confusion matrix\n",
    "\n",
    "cond_matrix=confusion_matrix(y_test, y_pred_ridge)\n",
    "cond_matrix"
   ]
  },
  {
   "cell_type": "markdown",
   "metadata": {},
   "source": [
    "# <div style=\"color:white;display:inline-block;border-radius:5px;background-image: url(https://i.postimg.cc/fyD3nrX4/cardiovas-jcdumlao.png);font-family:Nexa;overflow:hidden\"><p style=\"padding:15px;color:white;overflow:hidden;font-size:95%;letter-spacing:0.5px;margin:0\"><b>ﮩ٨ـ❤️ﮩ٨ـﮩﮩ</b>Lasso</p></div>\n"
   ]
  },
  {
   "cell_type": "code",
   "execution_count": 43,
   "metadata": {},
   "outputs": [],
   "source": [
    "from sklearn.linear_model import LassoCV"
   ]
  },
  {
   "cell_type": "code",
   "execution_count": 44,
   "metadata": {},
   "outputs": [
    {
     "name": "stdout",
     "output_type": "stream",
     "text": [
      "Best alpha value found: 0.001\n"
     ]
    }
   ],
   "source": [
    "# Define a range of alpha values for Lasso\n",
    "alphas = [0.001, 0.01, 0.1, 1, 10, 100]\n",
    "\n",
    "# Fit Lasso model with cross-validation to select the best alpha\n",
    "# another hyperparameter is iteration !! --> check \n",
    "# 10.000 is a decent value\n",
    "lasso = LassoCV(alphas=alphas, cv=5, max_iter=10000).fit(X_train, y_train)\n",
    "\n",
    "# After fitting, lasso.alpha_ will give you the best alpha value found\n",
    "print(\"Best alpha value found:\", lasso.alpha_)"
   ]
  },
  {
   "cell_type": "code",
   "execution_count": 45,
   "metadata": {},
   "outputs": [],
   "source": [
    "# Predict with the Lasso model\n",
    "predictions = lasso.predict(X_test)\n",
    "\n",
    "# print(predictions)\n"
   ]
  },
  {
   "cell_type": "code",
   "execution_count": 46,
   "metadata": {},
   "outputs": [],
   "source": [
    "# Define a threshold for classification\n",
    "threshold = 0.5 \n",
    "y_pred_lasso = (predictions >= threshold).astype(int)"
   ]
  },
  {
   "cell_type": "code",
   "execution_count": 47,
   "metadata": {},
   "outputs": [
    {
     "data": {
      "text/plain": [
       "array([[ 90,   5],\n",
       "       [  3, 102]])"
      ]
     },
     "execution_count": 47,
     "metadata": {},
     "output_type": "execute_result"
    }
   ],
   "source": [
    "# Generate the confusion matrix\n",
    "cond_matrix=confusion_matrix(y_test, y_pred_ridge)\n",
    "cond_matrix"
   ]
  },
  {
   "cell_type": "code",
   "execution_count": null,
   "metadata": {},
   "outputs": [],
   "source": []
  },
  {
   "cell_type": "markdown",
   "metadata": {},
   "source": [
    "# <div style=\"color:white;display:inline-block;border-radius:5px;background-image: url(https://i.postimg.cc/fyD3nrX4/cardiovas-jcdumlao.png);font-family:Nexa;overflow:hidden\"><p style=\"padding:15px;color:white;overflow:hidden;font-size:95%;letter-spacing:0.5px;margin:0\"><b>ﮩ٨ـ❤️ﮩ٨ـﮩﮩ</b>feature Importance using Lasso</p></div>\n"
   ]
  },
  {
   "cell_type": "code",
   "execution_count": 48,
   "metadata": {},
   "outputs": [
    {
     "data": {
      "image/png": "[encoded data removed]",
      "text/plain": [
       "<Figure size 1000x600 with 1 Axes>"
      ]
     },
     "metadata": {},
     "output_type": "display_data"
    }
   ],
   "source": [
    " # 'lasso' is your fitted LassoCV model and 'X' is your DataFrame of features\n",
    "# lasso tries to push down the least important vlues \n",
    "\n",
    "# Extract all coefficients\n",
    "coefficients = lasso.coef_\n",
    "\n",
    "# Get column names from the DataFrame\n",
    "feature_names = X.columns\n",
    "\n",
    "# Create a Series for the coefficients for easier plotting, including zeros\n",
    "coeff_series_all = pd.Series(coefficients, index=feature_names)\n",
    "\n",
    "# Sort the coefficients for better visualization\n",
    "sorted_coeffs_all = coeff_series_all.sort_values()\n",
    "\n",
    "# Plotting\n",
    "plt.figure(figsize=(10, 6))\n",
    "sorted_coeffs_all.plot(kind='barh')\n",
    "plt.title('Importance of features for heart disease')\n",
    "plt.xlabel('Coefficient Value')\n",
    "plt.ylabel('Features')\n",
    "plt.show()\n",
    "\n",
    "# elastic net: combination of ridge and lasso.... go back next time \n"
   ]
  },
  {
   "cell_type": "markdown",
   "metadata": {},
   "source": [
    "# <div style=\"color:white;display:inline-block;border-radius:5px;background-image: url(https://i.postimg.cc/fyD3nrX4/cardiovas-jcdumlao.png);font-family:Nexa;overflow:hidden\"><p style=\"padding:15px;color:white;overflow:hidden;font-size:95%;letter-spacing:0.5px;margin:0\"><b>ﮩ٨ـ❤️ﮩ٨ـﮩﮩ</b>LogisticRegression</p></div>\n"
   ]
  },
  {
   "cell_type": "code",
   "execution_count": 49,
   "metadata": {},
   "outputs": [],
   "source": [
    "# Library of logistic regression with cross validation integrated:\n",
    "from sklearn.linear_model import LogisticRegressionCV"
   ]
  },
  {
   "cell_type": "code",
   "execution_count": 50,
   "metadata": {},
   "outputs": [],
   "source": [
    "# Initialize and fit the logistic regression model with cross-validation\n",
    "log_reg_cv = LogisticRegressionCV(cv=5, max_iter=10000).fit(X_train, y_train)"
   ]
  },
  {
   "cell_type": "code",
   "execution_count": 51,
   "metadata": {},
   "outputs": [],
   "source": [
    "# Predict on the test set\n",
    "y_pred_log = log_reg_cv.predict(X_test)"
   ]
  },
  {
   "cell_type": "code",
   "execution_count": 54,
   "metadata": {},
   "outputs": [
    {
     "data": {
      "text/plain": [
       "array([[ 91,   4],\n",
       "       [  2, 103]])"
      ]
     },
     "execution_count": 54,
     "metadata": {},
     "output_type": "execute_result"
    }
   ],
   "source": [
    "# Generate the confusion matrix\n",
    "conf_matrix = confusion_matrix(y_test, y_pred_log)\n",
    "conf_matrix"
   ]
  },
  {
   "cell_type": "markdown",
   "metadata": {},
   "source": [
    "# <div style=\"color:white;display:inline-block;border-radius:5px;background-image: url(https://i.postimg.cc/fyD3nrX4/cardiovas-jcdumlao.png);font-family:Nexa;overflow:hidden\"><p style=\"padding:15px;color:white;overflow:hidden;font-size:95%;letter-spacing:0.5px;margin:0\"><b>ﮩ٨ـ❤️ﮩ٨ـﮩﮩ</b>Comparing Methods based on accuracy</p></div>"
   ]
  },
  {
   "cell_type": "markdown",
   "metadata": {},
   "source": [
    "## Results :\n",
    "\n",
    "### Question: Based on the above plots, best algorithm base on Score is?\n"
   ]
  },
  {
   "cell_type": "markdown",
   "metadata": {},
   "source": [
    "# <div style=\"color:white;display:inline-block;border-radius:5px;background-image: url(https://i.postimg.cc/fyD3nrX4/cardiovas-jcdumlao.png);font-family:Nexa;overflow:hidden\"><p style=\"padding:15px;color:white;overflow:hidden;font-size:95%;letter-spacing:0.5px;margin:0\"><b>ﮩ٨ـ❤️ﮩ٨ـﮩﮩ</b>Final Modeling</p></div>\n"
   ]
  },
  {
   "cell_type": "code",
   "execution_count": 55,
   "metadata": {},
   "outputs": [],
   "source": [
    "from sklearn.metrics import accuracy_score\n",
    "\n",
    "# classification metrics: f1 score algorythms  // accuracy \n",
    "\n",
    "# y_pred_ridge, y_pred_lasso, and y_pred_log are the predictions from Ridge,\n",
    "#Lasso, and Logistic Regression models, respectively\n",
    "\n",
    "accuracy_ridge = accuracy_score(y_test, y_pred_ridge)\n",
    "accuracy_lasso = accuracy_score(y_test, y_pred_lasso)\n",
    "accuracy_logistic = accuracy_score(y_test, y_pred_log)"
   ]
  },
  {
   "cell_type": "code",
   "execution_count": 56,
   "metadata": {},
   "outputs": [
    {
     "data": {
      "image/png": "[encoded data removed]",
      "text/plain": [
       "<Figure size 1000x600 with 1 Axes>"
      ]
     },
     "metadata": {},
     "output_type": "display_data"
    }
   ],
   "source": [
    "# Model names\n",
    "models = ['Ridge', 'Lasso', 'Logistic Regression']\n",
    "\n",
    "# Corresponding accuracies\n",
    "accuracies = [accuracy_ridge, accuracy_lasso, accuracy_logistic]\n",
    "\n",
    "plt.figure(figsize=(10, 6))\n",
    "bars = plt.bar(models, accuracies, color=['blue', 'green', 'orange'])\n",
    "\n",
    "# Adding accuracy value on top of each bar\n",
    "for bar in bars:\n",
    "    yval = bar.get_height()\n",
    "    plt.text(bar.get_x() + bar.get_width()/2, yval + 0.01, round(yval, 2), ha='center', va='bottom')\n",
    "\n",
    "plt.title('Model Comparison based on Accuracy')\n",
    "plt.xlabel('Model')\n",
    "plt.ylabel('Accuracy')\n",
    "plt.ylim([0, 1.1])  # Extend y-axis to make room for text\n",
    "plt.show()"
   ]
  },
  {
   "cell_type": "markdown",
   "metadata": {},
   "source": [
    "<div class=\"alert alert-block alert-info\"> \"In the next Lab we will do Kernel Ridge Regression for various kernels. Dataset:yet to be decided.!\" 😊📌</div>"
   ]
  },
  {
   "cell_type": "code",
   "execution_count": null,
   "metadata": {},
   "outputs": [],
   "source": []
  }
 ],
 "metadata": {
  "kaggle": {
   "accelerator": "none",
   "dataSources": [
    {
     "datasetId": 4134888,
     "sourceId": 7159329,
     "sourceType": "datasetVersion"
    }
   ],
   "dockerImageVersionId": 30615,
   "isGpuEnabled": false,
   "isInternetEnabled": true,
   "language": "python",
   "sourceType": "notebook"
  },
  "kernelspec": {
   "display_name": "Python 3 (ipykernel)",
   "language": "python",
   "name": "python3"
  },
  "language_info": {
   "codemirror_mode": {
    "name": "ipython",
    "version": 3
   },
   "file_extension": ".py",
   "mimetype": "text/x-python",
   "name": "python",
   "nbconvert_exporter": "python",
   "pygments_lexer": "ipython3",
   "version": "3.11.7"
  }
 },
 "nbformat": 4,
 "nbformat_minor": 4
}
