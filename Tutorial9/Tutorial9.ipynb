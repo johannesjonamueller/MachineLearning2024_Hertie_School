{
 "cells": [
  {
   "cell_type": "code",
   "execution_count": 17,
   "id": "ed7c5e2a-40c2-4e75-9ccf-04e246085871",
   "metadata": {
    "id": "ed7c5e2a-40c2-4e75-9ccf-04e246085871"
   },
   "outputs": [],
   "source": [
    "# Import the Libraries\n",
    "import numpy as np\n",
    "import pandas as pd\n",
    "import seaborn as sns\n",
    "import matplotlib.pyplot as plt\n",
    "\n",
    "import pandas as pd\n",
    "from sklearn.model_selection import train_test_split\n",
    "\n",
    "from sklearn.metrics import accuracy_score\n",
    "\n",
    "# later you can try to "
   ]
  },
  {
   "cell_type": "code",
   "execution_count": null,
   "id": "nnp3UJypEjKJ",
   "metadata": {
    "id": "nnp3UJypEjKJ"
   },
   "outputs": [],
   "source": []
  },
  {
   "cell_type": "markdown",
   "id": "koj0_W4gEnig",
   "metadata": {
    "id": "koj0_W4gEnig"
   },
   "source": [
    "Using Dropout https://archive.ics.uci.edu/dataset/697/predict+students+dropout+and+academic+success Data."
   ]
  },
  {
   "cell_type": "code",
   "execution_count": 18,
   "id": "9ee24b27-e891-431b-b3b4-4e37d5745332",
   "metadata": {
    "id": "9ee24b27-e891-431b-b3b4-4e37d5745332"
   },
   "outputs": [
    {
     "data": {
      "text/plain": [
       "(3630, 35)"
      ]
     },
     "execution_count": 18,
     "metadata": {},
     "output_type": "execute_result"
    }
   ],
   "source": [
    "# Load the datasets\n",
    "df = pd.read_csv(\"dropoutData.csv\")\n",
    "df.shape\n"
   ]
  },
  {
   "cell_type": "code",
   "execution_count": null,
   "id": "039c35a9-b211-4120-80c7-12e99c5d224d",
   "metadata": {
    "id": "039c35a9-b211-4120-80c7-12e99c5d224d"
   },
   "outputs": [],
   "source": []
  },
  {
   "cell_type": "code",
   "execution_count": 3,
   "id": "3ce31d1c-021b-41af-854d-0561d9ea01d3",
   "metadata": {
    "id": "3ce31d1c-021b-41af-854d-0561d9ea01d3"
   },
   "outputs": [],
   "source": [
    "train_ratio = 0.7\n",
    "\n",
    "\n",
    "# split whole into train and test, then split test into val and test\n",
    "X_train, X_test, y_train, y_test = train_test_split(df.drop('Target', axis=1), df['Target'], train_size=train_ratio, random_state=123)\n",
    "\n"
   ]
  },
  {
   "cell_type": "code",
   "execution_count": 4,
   "id": "ecf537ff-9a04-40ac-90a6-55e9501a7d1d",
   "metadata": {
    "id": "ecf537ff-9a04-40ac-90a6-55e9501a7d1d"
   },
   "outputs": [
    {
     "name": "stdout",
     "output_type": "stream",
     "text": [
      "No. of train samples: (2541, 34) \n",
      "\n",
      "No. of val samples: (544, 34) \n",
      "\n",
      "No. of test samples: (545, 34) \n",
      "\n",
      "No. of train samples: (2541,) \n",
      "\n",
      "No. of val samples: (544,) \n",
      "\n",
      "No. of test samples: (545,) \n",
      "\n",
      "Train test val ratio: 0.7, 0.15013774104683195, 0.14986225895316804\n"
     ]
    }
   ],
   "source": [
    "val_ratio = 0.15\n",
    "test_ratio = 0.15\n",
    "\n",
    "X_val, X_test, y_val, y_test = train_test_split(X_test, y_test, train_size=val_ratio/(val_ratio + test_ratio), random_state=123)\n",
    "n_train = X_train.shape[0]\n",
    "n_val = X_val.shape[0]\n",
    "n_test = X_test.shape[0]\n",
    "n = n_train + n_val + n_test\n",
    "print(f'No. of train samples: {X_train.shape} \\n')\n",
    "print(f'No. of val samples: {X_val.shape} \\n')\n",
    "print(f'No. of test samples: {X_test.shape} \\n')\n",
    "print(f'No. of train samples: {y_train.shape} \\n')\n",
    "print(f'No. of val samples: {y_val.shape} \\n')\n",
    "print(f'No. of test samples: {y_test.shape} \\n')\n",
    "print(f'Train test val ratio: {n_train/n}, {n_test/n}, {n_val/n}')"
   ]
  },
  {
   "cell_type": "code",
   "execution_count": 5,
   "id": "67f1e668-b0b4-45a5-80c3-33f0eeb1c521",
   "metadata": {
    "id": "67f1e668-b0b4-45a5-80c3-33f0eeb1c521"
   },
   "outputs": [
    {
     "name": "stdout",
     "output_type": "stream",
     "text": [
      "No. of train samples: (2541, 34) \n",
      "\n",
      "No. of val samples: (544, 34) \n",
      "\n",
      "No. of test samples: (545, 34) \n",
      "\n",
      "No. of train samples: (2541,) \n",
      "\n",
      "No. of val samples: (544,) \n",
      "\n",
      "No. of test samples: (545,) \n",
      "\n"
     ]
    }
   ],
   "source": [
    "# converting dataframe to numpy array because pytorch takes numpy arrays (or torch.tensor) as input.\n",
    "X_train=X_train.to_numpy()\n",
    "X_test=X_test.to_numpy()\n",
    "X_val=X_val.to_numpy()\n",
    "y_train=y_train.to_numpy()\n",
    "y_test=y_test.to_numpy()\n",
    "y_val=y_val.to_numpy()\n",
    "type(X_train)\n",
    "print(f'No. of train samples: {X_train.shape} \\n')\n",
    "print(f'No. of val samples: {X_val.shape} \\n')\n",
    "print(f'No. of test samples: {X_test.shape} \\n')\n",
    "print(f'No. of train samples: {y_train.shape} \\n')\n",
    "print(f'No. of val samples: {y_val.shape} \\n')\n",
    "print(f'No. of test samples: {y_test.shape} \\n')"
   ]
  },
  {
   "cell_type": "code",
   "execution_count": 6,
   "id": "64246173-4724-4f50-9321-2f0c0a41042a",
   "metadata": {
    "id": "64246173-4724-4f50-9321-2f0c0a41042a"
   },
   "outputs": [],
   "source": [
    "from torch.utils.data import DataLoader, TensorDataset\n",
    "import torch"
   ]
  },
  {
   "cell_type": "code",
   "execution_count": 7,
   "id": "6cce1a11-3414-43c5-8cb9-e93ba4bec666",
   "metadata": {
    "id": "6cce1a11-3414-43c5-8cb9-e93ba4bec666"
   },
   "outputs": [],
   "source": [
    "train_dataset = TensorDataset(torch.tensor(X_train).float(), torch.tensor(y_train).long())\n",
    "val_dataset= TensorDataset(torch.tensor(X_val).float(), torch.tensor(y_val).long())\n",
    "test_dataset=TensorDataset(torch.tensor(X_test).float(), torch.tensor(y_test).long())\n"
   ]
  },
  {
   "cell_type": "code",
   "execution_count": 16,
   "id": "53400287-c248-4de1-9d81-21099df8a36b",
   "metadata": {},
   "outputs": [
    {
     "data": {
      "text/plain": [
       "\u001b[0;31mDocstring:\u001b[0m\n",
       "tensor(data, *, dtype=None, device=None, requires_grad=False, pin_memory=False) -> Tensor\n",
       "\n",
       "Constructs a tensor with no autograd history (also known as a \"leaf tensor\", see :doc:`/notes/autograd`) by copying :attr:`data`.\n",
       "\n",
       ".. warning::\n",
       "\n",
       "    When working with tensors prefer using :func:`torch.Tensor.clone`,\n",
       "    :func:`torch.Tensor.detach`, and :func:`torch.Tensor.requires_grad_` for\n",
       "    readability. Letting `t` be a tensor, ``torch.tensor(t)`` is equivalent to\n",
       "    ``t.clone().detach()``, and ``torch.tensor(t, requires_grad=True)``\n",
       "    is equivalent to ``t.clone().detach().requires_grad_(True)``.\n",
       "\n",
       ".. seealso::\n",
       "\n",
       "    :func:`torch.as_tensor` preserves autograd history and avoids copies where possible.\n",
       "    :func:`torch.from_numpy` creates a tensor that shares storage with a NumPy array.\n",
       "\n",
       "Args:\n",
       "    data (array_like): Initial data for the tensor. Can be a list, tuple,\n",
       "        NumPy ``ndarray``, scalar, and other types.\n",
       "\n",
       "Keyword args:\n",
       "    dtype (:class:`torch.dtype`, optional): the desired data type of returned tensor.\n",
       "        Default: if ``None``, infers data type from :attr:`data`.\n",
       "    device (:class:`torch.device`, optional): the device of the constructed tensor. If None and data is a tensor\n",
       "        then the device of data is used. If None and data is not a tensor then\n",
       "        the result tensor is constructed on the current device.\n",
       "    requires_grad (bool, optional): If autograd should record operations on the\n",
       "        returned tensor. Default: ``False``.\n",
       "    pin_memory (bool, optional): If set, returned tensor would be allocated in\n",
       "        the pinned memory. Works only for CPU tensors. Default: ``False``.\n",
       "\n",
       "\n",
       "Example::\n",
       "\n",
       "    >>> torch.tensor([[0.1, 1.2], [2.2, 3.1], [4.9, 5.2]])\n",
       "    tensor([[ 0.1000,  1.2000],\n",
       "            [ 2.2000,  3.1000],\n",
       "            [ 4.9000,  5.2000]])\n",
       "\n",
       "    >>> torch.tensor([0, 1])  # Type inference on data\n",
       "    tensor([ 0,  1])\n",
       "\n",
       "    >>> torch.tensor([[0.11111, 0.222222, 0.3333333]],\n",
       "    ...              dtype=torch.float64,\n",
       "    ...              device=torch.device('cuda:0'))  # creates a double tensor on a CUDA device\n",
       "    tensor([[ 0.1111,  0.2222,  0.3333]], dtype=torch.float64, device='cuda:0')\n",
       "\n",
       "    >>> torch.tensor(3.14159)  # Create a zero-dimensional (scalar) tensor\n",
       "    tensor(3.1416)\n",
       "\n",
       "    >>> torch.tensor([])  # Create an empty tensor (of size (0,))\n",
       "    tensor([])\n",
       "\u001b[0;31mType:\u001b[0m      builtin_function_or_method"
      ]
     },
     "metadata": {},
     "output_type": "display_data"
    }
   ],
   "source": [
    "torch.tensor?"
   ]
  },
  {
   "cell_type": "code",
   "execution_count": 8,
   "id": "f196a461-8437-4f77-9b37-17b1d5cede36",
   "metadata": {
    "id": "f196a461-8437-4f77-9b37-17b1d5cede36"
   },
   "outputs": [
    {
     "name": "stdout",
     "output_type": "stream",
     "text": [
      "No. of batches train dataloader: 79 and total train samples: 2528, 32\n",
      "No. of batches val dataloader: 17 and total val samples: 544\n",
      "No. of batches test dataloader: 17 and test train samples: 544\n"
     ]
    }
   ],
   "source": [
    "## Dataloader\n",
    "\n",
    "train_bs = 32\n",
    "val_bs = 32\n",
    "test_bs = 32\n",
    "\n",
    "# batch size in the power of 2, up to 2^6\n",
    "# left ouvers are eather drop_last TRUE or NOT\n",
    "# shuffle to ensure less bias , does not matter in validation or test \n",
    "train_dataloader = DataLoader(train_dataset, batch_size=train_bs, shuffle=True, drop_last=True) #dataset   \n",
    "val_dataloader = DataLoader(val_dataset, batch_size=val_bs, shuffle=False, drop_last=True)\n",
    "test_dataloader = DataLoader(test_dataset, batch_size=test_bs, shuffle=False, drop_last=True)\n",
    "\n",
    "# train_dataloader\n",
    "\n",
    "print(f'No. of batches train dataloader: {len(train_dataloader)} and total train samples: {len(train_dataloader)*train_bs}, {train_dataloader.batch_size}')\n",
    "print(f'No. of batches val dataloader: {len(val_dataloader)} and total val samples: {len(val_dataloader)*val_bs}')\n",
    "print(f'No. of batches test dataloader: {len(test_dataloader)} and test train samples: {len(test_dataloader)*test_bs}')\n",
    "# X = next(iter(train_dataloader))\n",
    "\n",
    "# (X,y) = next(iter(train_dataloader))"
   ]
  },
  {
   "cell_type": "code",
   "execution_count": null,
   "id": "4520e217-8192-4524-a215-2391c6b059a1",
   "metadata": {
    "id": "4520e217-8192-4524-a215-2391c6b059a1"
   },
   "outputs": [],
   "source": [
    "# print(X[1])"
   ]
  },
  {
   "cell_type": "code",
   "execution_count": 9,
   "id": "639836f3-401b-4a60-8c68-9c2d2bef4d75",
   "metadata": {
    "id": "639836f3-401b-4a60-8c68-9c2d2bef4d75"
   },
   "outputs": [],
   "source": [
    "# Train and evaluate functions for training and validating the model\n",
    "\n",
    "def train_loop(model, tr_dataloader, loss_fn, opt):\n",
    "    avg_loss = 0 # to store running loss\n",
    "    model.train() # Set model in training mode\n",
    "    for batch_idx, (X, y) in enumerate(tr_dataloader):\n",
    "        pred = model(X) # make prediction on current batch\n",
    "        loss = loss_fn(pred,y) # calculate loss\n",
    "        loss.backward() # calculates gradients\n",
    "        opt.step() # update weights\n",
    "        opt.zero_grad() # set gradients to zero for next batch,  not for transformers but only for \n",
    "        avg_loss += loss.item()\n",
    "        #print(f'Batch no. {batch_idx}, Batch loss: {loss.item():.5f}')\n",
    "    print(f'Average training Loss: {avg_loss/len(tr_dataloader):.5f}')\n",
    "    train_loss = avg_loss/len(tr_dataloader)\n",
    "    return train_loss\n",
    "\n",
    "def test_loop(model, dataloader, loss_fn ):\n",
    "    test_loss = 0.\n",
    "    correct = 0\n",
    "    model.eval()\n",
    "    bs = dataloader.batch_size\n",
    "    for batch_idx, (X, y) in enumerate(dataloader):\n",
    "        pred = model(X) # make prediction on current batch\n",
    "        test_loss += loss_fn(pred,y).item() # calculate loss\n",
    "        correct += (pred.argmax(1) == y).type(torch.float).sum().item() # not required for regression\n",
    "\n",
    "    test_loss /= len(dataloader)\n",
    "    correct /= (len(dataloader)*dataloader.batch_size)\n",
    "    print(f'Error: \\n Accuracy: {(100*correct):0.1f}%, Avg test loss: {test_loss:.5f} \\n')\n",
    "\n",
    "\n",
    "    return test_loss\n"
   ]
  },
  {
   "cell_type": "code",
   "execution_count": 10,
   "id": "98d9cc16-04f2-4228-b99f-e602b7d964b4",
   "metadata": {
    "id": "98d9cc16-04f2-4228-b99f-e602b7d964b4",
    "scrolled": true
   },
   "outputs": [],
   "source": [
    "# define a model class # Model 1\n",
    "from torch import nn, optim\n",
    "\n",
    "class Network(nn.Module):\n",
    "    def __init__(self,hid_layer=[100,100]):  # default number of layer\n",
    "        super().__init__()\n",
    "        self.net = nn.Sequential(   # seqential way forward\n",
    "            nn.Linear(34, hid_layer[0]),    # 34 = number ofd features, better to insert number of \n",
    "            nn.ReLU(),\n",
    "            nn.Linear(hid_layer[0],hid_layer[1]),\n",
    "            nn.ReLU(),\n",
    "            nn.Linear(hid_layer[1], 2),   # 2 as number of classification \n",
    "        )\n",
    "    def forward(self,x):\n",
    "        logits = self.net(x)\n",
    "        return logits\n",
    "\n"
   ]
  },
  {
   "cell_type": "code",
   "execution_count": 11,
   "id": "9a82e7f7-918d-4aa9-bc62-6b0d30e25079",
   "metadata": {
    "id": "9a82e7f7-918d-4aa9-bc62-6b0d30e25079"
   },
   "outputs": [
    {
     "name": "stdout",
     "output_type": "stream",
     "text": [
      "Epoch 0\n",
      "Average training Loss: 0.46245\n",
      "Error: \n",
      " Accuracy: 90.8%, Avg test loss: 0.25967 \n",
      "\n",
      "Epoch 1\n",
      "Average training Loss: 0.30666\n",
      "Error: \n",
      " Accuracy: 90.6%, Avg test loss: 0.24554 \n",
      "\n",
      "Epoch 2\n",
      "Average training Loss: 0.27635\n",
      "Error: \n",
      " Accuracy: 92.5%, Avg test loss: 0.21074 \n",
      "\n",
      "Epoch 3\n",
      "Average training Loss: 0.25951\n",
      "Error: \n",
      " Accuracy: 91.7%, Avg test loss: 0.22257 \n",
      "\n",
      "Epoch 4\n",
      "Average training Loss: 0.26024\n",
      "Error: \n",
      " Accuracy: 91.5%, Avg test loss: 0.23297 \n",
      "\n",
      "Epoch 5\n",
      "Average training Loss: 0.24354\n",
      "Error: \n",
      " Accuracy: 90.8%, Avg test loss: 0.24444 \n",
      "\n",
      "Epoch 6\n",
      "Average training Loss: 0.23704\n",
      "Error: \n",
      " Accuracy: 93.0%, Avg test loss: 0.20549 \n",
      "\n",
      "Epoch 7\n",
      "Average training Loss: 0.24326\n",
      "Error: \n",
      " Accuracy: 92.1%, Avg test loss: 0.24317 \n",
      "\n",
      "Epoch 8\n",
      "Average training Loss: 0.23359\n",
      "Error: \n",
      " Accuracy: 92.8%, Avg test loss: 0.21737 \n",
      "\n",
      "Epoch 9\n",
      "Average training Loss: 0.22794\n",
      "Error: \n",
      " Accuracy: 92.6%, Avg test loss: 0.21014 \n",
      "\n",
      "Epoch 10\n",
      "Average training Loss: 0.23954\n",
      "Error: \n",
      " Accuracy: 91.7%, Avg test loss: 0.21022 \n",
      "\n",
      "Epoch 11\n",
      "Average training Loss: 0.23280\n",
      "Error: \n",
      " Accuracy: 92.1%, Avg test loss: 0.21916 \n",
      "\n",
      "Epoch 12\n",
      "Average training Loss: 0.24642\n",
      "Error: \n",
      " Accuracy: 93.4%, Avg test loss: 0.22001 \n",
      "\n",
      "Epoch 13\n",
      "Average training Loss: 0.22223\n",
      "Error: \n",
      " Accuracy: 92.8%, Avg test loss: 0.21266 \n",
      "\n",
      "Epoch 14\n",
      "Average training Loss: 0.22634\n",
      "Error: \n",
      " Accuracy: 91.5%, Avg test loss: 0.22114 \n",
      "\n",
      "Epoch 15\n",
      "Average training Loss: 0.22219\n",
      "Error: \n",
      " Accuracy: 91.0%, Avg test loss: 0.23149 \n",
      "\n",
      "Epoch 16\n",
      "Average training Loss: 0.22410\n",
      "Error: \n",
      " Accuracy: 92.8%, Avg test loss: 0.21504 \n",
      "\n",
      "Epoch 17\n",
      "Average training Loss: 0.21418\n",
      "Error: \n",
      " Accuracy: 91.5%, Avg test loss: 0.24160 \n",
      "\n",
      "Epoch 18\n",
      "Average training Loss: 0.21648\n",
      "Error: \n",
      " Accuracy: 90.6%, Avg test loss: 0.24616 \n",
      "\n",
      "Epoch 19\n",
      "Average training Loss: 0.22214\n",
      "Error: \n",
      " Accuracy: 91.5%, Avg test loss: 0.23234 \n",
      "\n"
     ]
    }
   ],
   "source": [
    "## Calling model 1\n",
    "hid_layer = [80,45] # number of nodes\n",
    "model = Network(hid_layer) #instantiate\n",
    "\n",
    "epochs = 20\n",
    "learning_rate = 1e-2\n",
    "loss_fn = nn.CrossEntropyLoss()    # for regression ..... nn.mse_loss \n",
    "opt = optim.Adam(model.parameters(), lr=learning_rate) #optimizer\n",
    "train_loss = [] # list to store train loss\n",
    "val_loss = [] # list to store val loss\n",
    "\n",
    "for t in range(epochs):\n",
    "    print(f'Epoch {t}')\n",
    "    train_loss.append(train_loop(model, train_dataloader,  loss_fn, opt)) # to plot the graph\n",
    "    val_loss.append(test_loop(model, val_dataloader, loss_fn))\n",
    "\n"
   ]
  },
  {
   "cell_type": "code",
   "execution_count": 12,
   "id": "f37ee2e2-654a-4425-87cc-f8d11cc9c8e2",
   "metadata": {
    "id": "f37ee2e2-654a-4425-87cc-f8d11cc9c8e2"
   },
   "outputs": [
    {
     "data": {
      "image/png": "[encoded data removed]",
      "text/plain": [
       "<Figure size 640x480 with 1 Axes>"
      ]
     },
     "metadata": {},
     "output_type": "display_data"
    }
   ],
   "source": [
    "\n",
    "from matplotlib import pyplot as plt\n",
    "xax = range(epochs)\n",
    "plt.plot(xax, np.array(train_loss),'r-', xax, np.array(val_loss),'g-'  )\n",
    "plt.xlabel('Epochs')\n",
    "plt.ylabel('Loss')\n",
    "plt.legend(['Train loss','Val loss' ])\n",
    "plt.show()"
   ]
  },
  {
   "cell_type": "code",
   "execution_count": 13,
   "id": "55c2945c-d4e2-4879-a0ab-e836cad2e791",
   "metadata": {
    "id": "55c2945c-d4e2-4879-a0ab-e836cad2e791"
   },
   "outputs": [
    {
     "name": "stdout",
     "output_type": "stream",
     "text": [
      "Performing test...\n",
      "\n",
      "Error: \n",
      " Accuracy: 88.2%, Avg test loss: 0.34083 \n",
      "\n"
     ]
    },
    {
     "data": {
      "text/plain": [
       "0.34082718719454375"
      ]
     },
     "execution_count": 13,
     "metadata": {},
     "output_type": "execute_result"
    }
   ],
   "source": [
    "print('Performing test...\\n')\n",
    "test_loop(model,test_dataloader,loss_fn)"
   ]
  },
  {
   "cell_type": "code",
   "execution_count": 21,
   "id": "e8b92502-5792-4fcc-a327-eef1ce24d28d",
   "metadata": {
    "id": "e8b92502-5792-4fcc-a327-eef1ce24d28d"
   },
   "outputs": [],
   "source": [
    "# define a model class # Model 2\n",
    "from torch import nn, optim\n",
    "\n",
    "class Network2(nn.Module):\n",
    "    def __init__(self,hid_layer=[100]):  # default number of layer\n",
    "        super().__init__()\n",
    "        self.net = nn.Sequential(   # seqential way forward\n",
    "            nn.Linear(34, hid_layer[0]),    # 34 = number ofd features, better to insert number of \n",
    "            nn.ReLU(),\n",
    "            nn.Linear(hid_layer[0], 2),   # 2 as number of classification \n",
    "        )\n",
    "    def forward(self,x):\n",
    "        logits = self.net(x)\n",
    "        return logits\n"
   ]
  },
  {
   "cell_type": "code",
   "execution_count": 31,
   "id": "e1788315-504d-4732-afc6-00a5df5bcaf4",
   "metadata": {},
   "outputs": [
    {
     "name": "stdout",
     "output_type": "stream",
     "text": [
      "Average training Loss: 0.45493\n",
      "Error: \n",
      " Accuracy: 91.9%, Avg test loss: 0.23490 \n",
      "\n",
      "Average training Loss: 0.27421\n",
      "Error: \n",
      " Accuracy: 92.1%, Avg test loss: 0.20881 \n",
      "\n",
      "Average training Loss: 0.27527\n",
      "Error: \n",
      " Accuracy: 90.1%, Avg test loss: 0.22811 \n",
      "\n",
      "Average training Loss: 0.25088\n",
      "Error: \n",
      " Accuracy: 91.9%, Avg test loss: 0.21195 \n",
      "\n",
      "Average training Loss: 0.26476\n",
      "Error: \n",
      " Accuracy: 91.7%, Avg test loss: 0.22119 \n",
      "\n",
      "Average training Loss: 0.25529\n",
      "Error: \n",
      " Accuracy: 90.8%, Avg test loss: 0.22797 \n",
      "\n",
      "Average training Loss: 0.24480\n",
      "Error: \n",
      " Accuracy: 91.9%, Avg test loss: 0.22142 \n",
      "\n",
      "Average training Loss: 0.27116\n",
      "Error: \n",
      " Accuracy: 91.9%, Avg test loss: 0.23643 \n",
      "\n",
      "Average training Loss: 0.23838\n",
      "Error: \n",
      " Accuracy: 93.0%, Avg test loss: 0.20498 \n",
      "\n",
      "Average training Loss: 0.23261\n",
      "Error: \n",
      " Accuracy: 92.5%, Avg test loss: 0.21412 \n",
      "\n",
      "Average training Loss: 0.23449\n",
      "Error: \n",
      " Accuracy: 91.9%, Avg test loss: 0.22888 \n",
      "\n",
      "Average training Loss: 0.23361\n",
      "Error: \n",
      " Accuracy: 92.3%, Avg test loss: 0.22230 \n",
      "\n",
      "Average training Loss: 0.22957\n",
      "Error: \n",
      " Accuracy: 92.5%, Avg test loss: 0.21512 \n",
      "\n",
      "Average training Loss: 0.22315\n",
      "Error: \n",
      " Accuracy: 93.2%, Avg test loss: 0.20718 \n",
      "\n",
      "Average training Loss: 0.22875\n",
      "Error: \n",
      " Accuracy: 92.1%, Avg test loss: 0.21484 \n",
      "\n",
      "Average training Loss: 0.22949\n",
      "Error: \n",
      " Accuracy: 93.2%, Avg test loss: 0.20727 \n",
      "\n",
      "Average training Loss: 0.23255\n",
      "Error: \n",
      " Accuracy: 91.9%, Avg test loss: 0.24314 \n",
      "\n",
      "Average training Loss: 0.23050\n",
      "Error: \n",
      " Accuracy: 93.0%, Avg test loss: 0.22063 \n",
      "\n",
      "Average training Loss: 0.22919\n",
      "Error: \n",
      " Accuracy: 89.7%, Avg test loss: 0.25914 \n",
      "\n",
      "Average training Loss: 0.22819\n",
      "Error: \n",
      " Accuracy: 92.8%, Avg test loss: 0.21567 \n",
      "\n",
      "Error: \n",
      " Accuracy: 88.2%, Avg test loss: 0.33350 \n",
      "\n"
     ]
    },
    {
     "data": {
      "text/plain": [
       "0.33350030201322894"
      ]
     },
     "execution_count": 31,
     "metadata": {},
     "output_type": "execute_result"
    }
   ],
   "source": [
    "## Calling model 1\n",
    "\n",
    "model = Network2(hid_layer) #instantiate\n",
    "hid_layer = [80] # number of nodes\n",
    "epochs = 20\n",
    "learning_rate = 1e-2\n",
    "loss_fn = nn.CrossEntropyLoss()    # for regression ..... nn.mse_loss \n",
    "opt = optim.Adam(model.parameters(), lr=learning_rate) #optimizer\n",
    "train_loss2 = [] # list to store train loss\n",
    "val_loss2 = [] # list to store val loss\n",
    "\n",
    "for t in range(epochs):\n",
    "    train_loss2.append(train_loop(model, train_dataloader,  loss_fn, opt)) # to plot the graph\n",
    "    val_loss2.append(test_loop(model, val_dataloader, loss_fn))\n",
    "test_loop(model,test_dataloader,loss_fn)"
   ]
  },
  {
   "cell_type": "code",
   "execution_count": 28,
   "id": "7462b43a-f10a-44fb-96d5-7c21e32651c2",
   "metadata": {},
   "outputs": [
    {
     "data": {
      "image/png": "[encoded data removed]",
      "text/plain": [
       "<Figure size 640x480 with 1 Axes>"
      ]
     },
     "metadata": {},
     "output_type": "display_data"
    }
   ],
   "source": [
    "from matplotlib import pyplot as plt\n",
    "xax = range(epochs)\n",
    "plt.plot(xax, np.array(train_loss2),'r-', xax, np.array(val_loss2),'g-'  )\n",
    "plt.xlabel('Epochs')\n",
    "plt.ylabel('Loss')\n",
    "plt.legend(['Train loss','Val loss' ])\n",
    "plt.show()"
   ]
  },
  {
   "cell_type": "code",
   "execution_count": 29,
   "id": "d066a675-4ab2-4ab7-a188-25bf99dd9a72",
   "metadata": {},
   "outputs": [
    {
     "name": "stdout",
     "output_type": "stream",
     "text": [
      "Performing test...\n",
      "\n",
      "Error: \n",
      " Accuracy: 88.1%, Avg test loss: 0.32953 \n",
      "\n"
     ]
    },
    {
     "data": {
      "text/plain": [
       "0.3295343264060862"
      ]
     },
     "execution_count": 29,
     "metadata": {},
     "output_type": "execute_result"
    }
   ],
   "source": [
    "print('Performing test...\\n')\n",
    "test_loop(model,test_dataloader,loss_fn)"
   ]
  },
  {
   "cell_type": "code",
   "execution_count": 32,
   "id": "84a26bc1-3466-4a91-9a30-8ddaa940350e",
   "metadata": {},
   "outputs": [
    {
     "data": {
      "text/plain": [
       "[0.45492724866806705,\n",
       " 0.27420517226940466,\n",
       " 0.2752709585843207,\n",
       " 0.2508757873143576,\n",
       " 0.26476469452056706,\n",
       " 0.25529012437674065,\n",
       " 0.24480487552436092,\n",
       " 0.2711598112990585,\n",
       " 0.23837956154271017,\n",
       " 0.23261363346931302,\n",
       " 0.2344921391598786,\n",
       " 0.23361067832270754,\n",
       " 0.22956936325453506,\n",
       " 0.22314743428856512,\n",
       " 0.22874747301581538,\n",
       " 0.22949410060161277,\n",
       " 0.2325472697804246,\n",
       " 0.23049792076779319,\n",
       " 0.22919225353228895,\n",
       " 0.228192028884269]"
      ]
     },
     "execution_count": 32,
     "metadata": {},
     "output_type": "execute_result"
    }
   ],
   "source": [
    "train_loss2"
   ]
  },
  {
   "cell_type": "code",
   "execution_count": 43,
   "id": "34ad4142-9094-4872-8b6c-19c60cf0168e",
   "metadata": {},
   "outputs": [
    {
     "name": "stdout",
     "output_type": "stream",
     "text": [
      "Error: \n",
      " Accuracy: 60.3%, Avg test loss: 0.88023 \n",
      "\n",
      "Error: \n",
      " Accuracy: 40.3%, Avg test loss: 1.34565 \n",
      "\n",
      "Error: \n",
      " Accuracy: 63.2%, Avg test loss: 0.93628 \n",
      "\n",
      "Error: \n",
      " Accuracy: 35.7%, Avg test loss: 1.09517 \n",
      "\n",
      "Error: \n",
      " Accuracy: 35.8%, Avg test loss: 1.83442 \n",
      "\n",
      "Error: \n",
      " Accuracy: 47.4%, Avg test loss: 1.00902 \n",
      "\n",
      "Error: \n",
      " Accuracy: 41.7%, Avg test loss: 0.86711 \n",
      "\n",
      "Error: \n",
      " Accuracy: 37.9%, Avg test loss: 1.25465 \n",
      "\n",
      "Error: \n",
      " Accuracy: 28.5%, Avg test loss: 1.54511 \n",
      "\n",
      "Error: \n",
      " Accuracy: 60.1%, Avg test loss: 0.77798 \n",
      "\n",
      "Error: \n",
      " Accuracy: 62.5%, Avg test loss: 1.66250 \n",
      "\n",
      "Error: \n",
      " Accuracy: 66.5%, Avg test loss: 0.66790 \n",
      "\n",
      "Error: \n",
      " Accuracy: 62.5%, Avg test loss: 1.77743 \n",
      "\n",
      "Error: \n",
      " Accuracy: 34.4%, Avg test loss: 0.90257 \n",
      "\n",
      "Error: \n",
      " Accuracy: 39.3%, Avg test loss: 1.20038 \n",
      "\n",
      "Error: \n",
      " Accuracy: 62.7%, Avg test loss: 0.95142 \n",
      "\n",
      "Error: \n",
      " Accuracy: 64.7%, Avg test loss: 0.63649 \n",
      "\n",
      "Error: \n",
      " Accuracy: 53.3%, Avg test loss: 0.93813 \n",
      "\n",
      "Error: \n",
      " Accuracy: 46.7%, Avg test loss: 0.80011 \n",
      "\n",
      "Error: \n",
      " Accuracy: 37.3%, Avg test loss: 2.64059 \n",
      "\n",
      "Error: \n",
      " Accuracy: 37.5%, Avg test loss: 1.86162 \n",
      "\n",
      "Error: \n",
      " Accuracy: 40.3%, Avg test loss: 0.82727 \n",
      "\n",
      "Error: \n",
      " Accuracy: 36.6%, Avg test loss: 0.87091 \n",
      "\n",
      "Error: \n",
      " Accuracy: 58.8%, Avg test loss: 0.75405 \n",
      "\n",
      "Error: \n",
      " Accuracy: 37.3%, Avg test loss: 1.98055 \n",
      "\n",
      "Error: \n",
      " Accuracy: 62.5%, Avg test loss: 1.37513 \n",
      "\n",
      "Error: \n",
      " Accuracy: 38.4%, Avg test loss: 1.25640 \n",
      "\n",
      "Error: \n",
      " Accuracy: 48.0%, Avg test loss: 1.15544 \n",
      "\n",
      "Error: \n",
      " Accuracy: 37.3%, Avg test loss: 2.33541 \n",
      "\n",
      "Error: \n",
      " Accuracy: 63.8%, Avg test loss: 0.81516 \n",
      "\n",
      "Error: \n",
      " Accuracy: 39.7%, Avg test loss: 1.09580 \n",
      "\n",
      "Error: \n",
      " Accuracy: 60.3%, Avg test loss: 0.71062 \n",
      "\n",
      "Error: \n",
      " Accuracy: 39.2%, Avg test loss: 1.06656 \n",
      "\n",
      "Error: \n",
      " Accuracy: 64.2%, Avg test loss: 0.86132 \n",
      "\n",
      "Error: \n",
      " Accuracy: 34.4%, Avg test loss: 1.60996 \n",
      "\n",
      "Error: \n",
      " Accuracy: 62.3%, Avg test loss: 0.86744 \n",
      "\n"
     ]
    },
    {
     "name": "stderr",
     "output_type": "stream",
     "text": [
      "/var/folders/rl/glk77nxx70v4qglb24jl0byr0000gn/T/ipykernel_70667/1566833845.py:20: FutureWarning: The behavior of DataFrame concatenation with empty or all-NA entries is deprecated. In a future version, this will no longer exclude empty or all-NA columns when determining the result dtypes. To retain the old behavior, exclude the relevant entries before the concat operation.\n",
      "  results = pd.concat([results, pd.DataFrame(model_info)], ignore_index=True)\n"
     ]
    }
   ],
   "source": [
    "hid_layers = [[30], [60], [80], [100]] # number of nodes\n",
    "all_epochs = [10, 15, 20]\n",
    "learning_rates = [1e-2, 1e-3, 1e-4]\n",
    "\n",
    "results = pd.DataFrame(columns=['hid_layer', 'epochs', 'learning_rate','test_loss'])\n",
    "\n",
    "for hid_layer in hid_layers:\n",
    "    for epochs in all_epochs:\n",
    "        for learning_rate in learning_rates: \n",
    "            model = Network2(hid_layer) # instantiate\n",
    "            loss_fn = nn.CrossEntropyLoss()    # for classification\n",
    "            opt = optim.Adam(model.parameters(), lr=learning_rate) #optimizer\n",
    "            test_loss = test_loop(model, test_dataloader, loss_fn)\n",
    "            model_info = {\n",
    "                'hid_layer': hid_layer,\n",
    "                'epochs': epochs,\n",
    "                'learning_rate': learning_rate,\n",
    "                'test_loss': test_loss \n",
    "            }\n",
    "            results = pd.concat([results, pd.DataFrame(model_info)], ignore_index=True)\n",
    "\n"
   ]
  },
  {
   "cell_type": "code",
   "execution_count": 44,
   "id": "992f3321-134c-4bcd-ac27-2e90fd95e942",
   "metadata": {},
   "outputs": [
    {
     "data": {
      "text/html": [
       "<div>\n",
       "<style scoped>\n",
       "    .dataframe tbody tr th:only-of-type {\n",
       "        vertical-align: middle;\n",
       "    }\n",
       "\n",
       "    .dataframe tbody tr th {\n",
       "        vertical-align: top;\n",
       "    }\n",
       "\n",
       "    .dataframe thead th {\n",
       "        text-align: right;\n",
       "    }\n",
       "</style>\n",
       "<table border=\"1\" class=\"dataframe\">\n",
       "  <thead>\n",
       "    <tr style=\"text-align: right;\">\n",
       "      <th></th>\n",
       "      <th>hid_layer</th>\n",
       "      <th>epochs</th>\n",
       "      <th>learning_rate</th>\n",
       "      <th>test_loss</th>\n",
       "    </tr>\n",
       "  </thead>\n",
       "  <tbody>\n",
       "    <tr>\n",
       "      <th>0</th>\n",
       "      <td>30</td>\n",
       "      <td>10</td>\n",
       "      <td>0.0100</td>\n",
       "      <td>0.880228</td>\n",
       "    </tr>\n",
       "    <tr>\n",
       "      <th>1</th>\n",
       "      <td>30</td>\n",
       "      <td>10</td>\n",
       "      <td>0.0010</td>\n",
       "      <td>1.345648</td>\n",
       "    </tr>\n",
       "    <tr>\n",
       "      <th>2</th>\n",
       "      <td>30</td>\n",
       "      <td>10</td>\n",
       "      <td>0.0001</td>\n",
       "      <td>0.936279</td>\n",
       "    </tr>\n",
       "    <tr>\n",
       "      <th>3</th>\n",
       "      <td>30</td>\n",
       "      <td>15</td>\n",
       "      <td>0.0100</td>\n",
       "      <td>1.095173</td>\n",
       "    </tr>\n",
       "    <tr>\n",
       "      <th>4</th>\n",
       "      <td>30</td>\n",
       "      <td>15</td>\n",
       "      <td>0.0010</td>\n",
       "      <td>1.834418</td>\n",
       "    </tr>\n",
       "    <tr>\n",
       "      <th>5</th>\n",
       "      <td>30</td>\n",
       "      <td>15</td>\n",
       "      <td>0.0001</td>\n",
       "      <td>1.009022</td>\n",
       "    </tr>\n",
       "    <tr>\n",
       "      <th>6</th>\n",
       "      <td>30</td>\n",
       "      <td>20</td>\n",
       "      <td>0.0100</td>\n",
       "      <td>0.867110</td>\n",
       "    </tr>\n",
       "    <tr>\n",
       "      <th>7</th>\n",
       "      <td>30</td>\n",
       "      <td>20</td>\n",
       "      <td>0.0010</td>\n",
       "      <td>1.254653</td>\n",
       "    </tr>\n",
       "    <tr>\n",
       "      <th>8</th>\n",
       "      <td>30</td>\n",
       "      <td>20</td>\n",
       "      <td>0.0001</td>\n",
       "      <td>1.545110</td>\n",
       "    </tr>\n",
       "    <tr>\n",
       "      <th>9</th>\n",
       "      <td>60</td>\n",
       "      <td>10</td>\n",
       "      <td>0.0100</td>\n",
       "      <td>0.777979</td>\n",
       "    </tr>\n",
       "    <tr>\n",
       "      <th>10</th>\n",
       "      <td>60</td>\n",
       "      <td>10</td>\n",
       "      <td>0.0010</td>\n",
       "      <td>1.662499</td>\n",
       "    </tr>\n",
       "    <tr>\n",
       "      <th>11</th>\n",
       "      <td>60</td>\n",
       "      <td>10</td>\n",
       "      <td>0.0001</td>\n",
       "      <td>0.667898</td>\n",
       "    </tr>\n",
       "    <tr>\n",
       "      <th>12</th>\n",
       "      <td>60</td>\n",
       "      <td>15</td>\n",
       "      <td>0.0100</td>\n",
       "      <td>1.777432</td>\n",
       "    </tr>\n",
       "    <tr>\n",
       "      <th>13</th>\n",
       "      <td>60</td>\n",
       "      <td>15</td>\n",
       "      <td>0.0010</td>\n",
       "      <td>0.902573</td>\n",
       "    </tr>\n",
       "    <tr>\n",
       "      <th>14</th>\n",
       "      <td>60</td>\n",
       "      <td>15</td>\n",
       "      <td>0.0001</td>\n",
       "      <td>1.200382</td>\n",
       "    </tr>\n",
       "    <tr>\n",
       "      <th>15</th>\n",
       "      <td>60</td>\n",
       "      <td>20</td>\n",
       "      <td>0.0100</td>\n",
       "      <td>0.951421</td>\n",
       "    </tr>\n",
       "    <tr>\n",
       "      <th>16</th>\n",
       "      <td>60</td>\n",
       "      <td>20</td>\n",
       "      <td>0.0010</td>\n",
       "      <td>0.636488</td>\n",
       "    </tr>\n",
       "    <tr>\n",
       "      <th>17</th>\n",
       "      <td>60</td>\n",
       "      <td>20</td>\n",
       "      <td>0.0001</td>\n",
       "      <td>0.938134</td>\n",
       "    </tr>\n",
       "    <tr>\n",
       "      <th>18</th>\n",
       "      <td>80</td>\n",
       "      <td>10</td>\n",
       "      <td>0.0100</td>\n",
       "      <td>0.800115</td>\n",
       "    </tr>\n",
       "    <tr>\n",
       "      <th>19</th>\n",
       "      <td>80</td>\n",
       "      <td>10</td>\n",
       "      <td>0.0010</td>\n",
       "      <td>2.640586</td>\n",
       "    </tr>\n",
       "    <tr>\n",
       "      <th>20</th>\n",
       "      <td>80</td>\n",
       "      <td>10</td>\n",
       "      <td>0.0001</td>\n",
       "      <td>1.861624</td>\n",
       "    </tr>\n",
       "    <tr>\n",
       "      <th>21</th>\n",
       "      <td>80</td>\n",
       "      <td>15</td>\n",
       "      <td>0.0100</td>\n",
       "      <td>0.827265</td>\n",
       "    </tr>\n",
       "    <tr>\n",
       "      <th>22</th>\n",
       "      <td>80</td>\n",
       "      <td>15</td>\n",
       "      <td>0.0010</td>\n",
       "      <td>0.870908</td>\n",
       "    </tr>\n",
       "    <tr>\n",
       "      <th>23</th>\n",
       "      <td>80</td>\n",
       "      <td>15</td>\n",
       "      <td>0.0001</td>\n",
       "      <td>0.754055</td>\n",
       "    </tr>\n",
       "    <tr>\n",
       "      <th>24</th>\n",
       "      <td>80</td>\n",
       "      <td>20</td>\n",
       "      <td>0.0100</td>\n",
       "      <td>1.980546</td>\n",
       "    </tr>\n",
       "    <tr>\n",
       "      <th>25</th>\n",
       "      <td>80</td>\n",
       "      <td>20</td>\n",
       "      <td>0.0010</td>\n",
       "      <td>1.375131</td>\n",
       "    </tr>\n",
       "    <tr>\n",
       "      <th>26</th>\n",
       "      <td>80</td>\n",
       "      <td>20</td>\n",
       "      <td>0.0001</td>\n",
       "      <td>1.256402</td>\n",
       "    </tr>\n",
       "    <tr>\n",
       "      <th>27</th>\n",
       "      <td>100</td>\n",
       "      <td>10</td>\n",
       "      <td>0.0100</td>\n",
       "      <td>1.155442</td>\n",
       "    </tr>\n",
       "    <tr>\n",
       "      <th>28</th>\n",
       "      <td>100</td>\n",
       "      <td>10</td>\n",
       "      <td>0.0010</td>\n",
       "      <td>2.335415</td>\n",
       "    </tr>\n",
       "    <tr>\n",
       "      <th>29</th>\n",
       "      <td>100</td>\n",
       "      <td>10</td>\n",
       "      <td>0.0001</td>\n",
       "      <td>0.815161</td>\n",
       "    </tr>\n",
       "    <tr>\n",
       "      <th>30</th>\n",
       "      <td>100</td>\n",
       "      <td>15</td>\n",
       "      <td>0.0100</td>\n",
       "      <td>1.095801</td>\n",
       "    </tr>\n",
       "    <tr>\n",
       "      <th>31</th>\n",
       "      <td>100</td>\n",
       "      <td>15</td>\n",
       "      <td>0.0010</td>\n",
       "      <td>0.710619</td>\n",
       "    </tr>\n",
       "    <tr>\n",
       "      <th>32</th>\n",
       "      <td>100</td>\n",
       "      <td>15</td>\n",
       "      <td>0.0001</td>\n",
       "      <td>1.066557</td>\n",
       "    </tr>\n",
       "    <tr>\n",
       "      <th>33</th>\n",
       "      <td>100</td>\n",
       "      <td>20</td>\n",
       "      <td>0.0100</td>\n",
       "      <td>0.861320</td>\n",
       "    </tr>\n",
       "    <tr>\n",
       "      <th>34</th>\n",
       "      <td>100</td>\n",
       "      <td>20</td>\n",
       "      <td>0.0010</td>\n",
       "      <td>1.609956</td>\n",
       "    </tr>\n",
       "    <tr>\n",
       "      <th>35</th>\n",
       "      <td>100</td>\n",
       "      <td>20</td>\n",
       "      <td>0.0001</td>\n",
       "      <td>0.867436</td>\n",
       "    </tr>\n",
       "  </tbody>\n",
       "</table>\n",
       "</div>"
      ],
      "text/plain": [
       "   hid_layer epochs  learning_rate  test_loss\n",
       "0         30     10         0.0100   0.880228\n",
       "1         30     10         0.0010   1.345648\n",
       "2         30     10         0.0001   0.936279\n",
       "3         30     15         0.0100   1.095173\n",
       "4         30     15         0.0010   1.834418\n",
       "5         30     15         0.0001   1.009022\n",
       "6         30     20         0.0100   0.867110\n",
       "7         30     20         0.0010   1.254653\n",
       "8         30     20         0.0001   1.545110\n",
       "9         60     10         0.0100   0.777979\n",
       "10        60     10         0.0010   1.662499\n",
       "11        60     10         0.0001   0.667898\n",
       "12        60     15         0.0100   1.777432\n",
       "13        60     15         0.0010   0.902573\n",
       "14        60     15         0.0001   1.200382\n",
       "15        60     20         0.0100   0.951421\n",
       "16        60     20         0.0010   0.636488\n",
       "17        60     20         0.0001   0.938134\n",
       "18        80     10         0.0100   0.800115\n",
       "19        80     10         0.0010   2.640586\n",
       "20        80     10         0.0001   1.861624\n",
       "21        80     15         0.0100   0.827265\n",
       "22        80     15         0.0010   0.870908\n",
       "23        80     15         0.0001   0.754055\n",
       "24        80     20         0.0100   1.980546\n",
       "25        80     20         0.0010   1.375131\n",
       "26        80     20         0.0001   1.256402\n",
       "27       100     10         0.0100   1.155442\n",
       "28       100     10         0.0010   2.335415\n",
       "29       100     10         0.0001   0.815161\n",
       "30       100     15         0.0100   1.095801\n",
       "31       100     15         0.0010   0.710619\n",
       "32       100     15         0.0001   1.066557\n",
       "33       100     20         0.0100   0.861320\n",
       "34       100     20         0.0010   1.609956\n",
       "35       100     20         0.0001   0.867436"
      ]
     },
     "execution_count": 44,
     "metadata": {},
     "output_type": "execute_result"
    }
   ],
   "source": [
    "results"
   ]
  },
  {
   "cell_type": "code",
   "execution_count": 45,
   "id": "df29342a-2bab-4813-b9bd-9b061b29f581",
   "metadata": {},
   "outputs": [
    {
     "name": "stdout",
     "output_type": "stream",
     "text": [
      "Error: \n",
      " Accuracy: 62.3%, Avg test loss: 0.86744 \n",
      "\n"
     ]
    },
    {
     "data": {
      "text/plain": [
       "0.867435592062333"
      ]
     },
     "execution_count": 45,
     "metadata": {},
     "output_type": "execute_result"
    }
   ],
   "source": [
    "test_loop(model, test_dataloader, loss_fn)"
   ]
  },
  {
   "cell_type": "code",
   "execution_count": null,
   "id": "7c969254-7946-4507-b8de-5dbd9e99f941",
   "metadata": {},
   "outputs": [],
   "source": []
  }
 ],
 "metadata": {
  "colab": {
   "provenance": []
  },
  "kernelspec": {
   "display_name": "Python 3 (ipykernel)",
   "language": "python",
   "name": "python3"
  },
  "language_info": {
   "codemirror_mode": {
    "name": "ipython",
    "version": 3
   },
   "file_extension": ".py",
   "mimetype": "text/x-python",
   "name": "python",
   "nbconvert_exporter": "python",
   "pygments_lexer": "ipython3",
   "version": "3.11.7"
  }
 },
 "nbformat": 4,
 "nbformat_minor": 5
}
